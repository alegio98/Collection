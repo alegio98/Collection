{
 "cells": [
  {
   "cell_type": "code",
   "execution_count": 1,
   "id": "1e166707",
   "metadata": {},
   "outputs": [],
   "source": [
    "using DataStructures\n",
    "using LinearAlgebraicRepresentation\n",
    "Lar = LinearAlgebraicRepresentation\n",
    "using BenchmarkTools"
   ]
  },
  {
   "cell_type": "markdown",
   "id": "64c02c1d",
   "metadata": {},
   "source": [
    "## funzione hollowBall()"
   ]
  },
  {
   "cell_type": "code",
   "execution_count": 2,
   "id": "c50d8f5d",
   "metadata": {},
   "outputs": [
    {
     "data": {
      "text/plain": [
       "hollowBall (generic function with 5 methods)"
      ]
     },
     "execution_count": 2,
     "metadata": {},
     "output_type": "execute_result"
    }
   ],
   "source": [
    "function hollowBall(r=1., R=1., angle1=pi, angle2=2*pi)\n",
    "    function hollowBall0(shape=[24, 36, 3])\n",
    "        V, CV = cuboidGrid(shape)\n",
    "        V = [angle1/shape[1] 0 0; 0 angle2/shape[2] 0; 0 0 (R-r)/shape[3]]*V\n",
    "        V = broadcast(+, V, [-(angle1)/2, -(angle2)/2, r])\n",
    "        W = [V[:, k] for k=1:size(V, 2)]\n",
    "        V = hcat(map(p->let\n",
    "        (u, v, w)=p; [w*cos(u)*cos(v); w*cos(u)*sin(v); w*sin(u)] end, W)...)\n",
    "        W, CW = simplifyCells(V, CV)\n",
    "        return W, CW\n",
    "    end\n",
    "    return hollowBall0\n",
    "end\n"
   ]
  },
  {
   "cell_type": "code",
   "execution_count": 19,
   "id": "4a9d0df5",
   "metadata": {},
   "outputs": [
    {
     "name": "stdout",
     "output_type": "stream",
     "text": [
      "Variables\n",
      "  #self#\u001b[36m::LinearAlgebraicRepresentation.var\"#hollowBall0#323\"{Float64,Float64,Irrational{:π},Float64}\u001b[39m\n",
      "\n",
      "Body\u001b[91m\u001b[1m::Tuple{Array,Array{Array{Int64,1},1}}\u001b[22m\u001b[39m\n",
      "\u001b[90m1 ─\u001b[39m %1 = Base.vect(24, 36, 3)\u001b[36m::Array{Int64,1}\u001b[39m\n",
      "\u001b[90m│  \u001b[39m %2 = (#self#)(%1)\u001b[91m\u001b[1m::Tuple{Array,Array{Array{Int64,1},1}}\u001b[22m\u001b[39m\n",
      "\u001b[90m└──\u001b[39m      return %2\n"
     ]
    }
   ],
   "source": [
    "@code_warntype Lar.hollowBall()();"
   ]
  },
  {
   "cell_type": "code",
   "execution_count": 4,
   "id": "a2c37c1b",
   "metadata": {},
   "outputs": [
    {
     "name": "stdout",
     "output_type": "stream",
     "text": [
      "  19.464 ms (260857 allocations: 21.48 MiB)\n"
     ]
    }
   ],
   "source": [
    "@btime W,CW = Lar.hollowBall()();"
   ]
  },
  {
   "cell_type": "code",
   "execution_count": 5,
   "id": "67e3b2fa",
   "metadata": {},
   "outputs": [
    {
     "name": "stdout",
     "output_type": "stream",
     "text": [
      "  2.277 ms (27526 allocations: 2.44 MiB)\n"
     ]
    }
   ],
   "source": [
    "@btime V, CV = Lar.hollowBall(1, 2, pi/2, pi/2)([6, 12, 4]);"
   ]
  },
  {
   "cell_type": "markdown",
   "id": "79cf0610",
   "metadata": {},
   "source": [
    "## Uso della macro @threads "
   ]
  },
  {
   "cell_type": "markdown",
   "id": "046314ec",
   "metadata": {},
   "source": [
    "#### Per settare il numero di threads pari a 2 ho dovuto per forza eseguire (come scritto nella guida di julia) i seguenti passaggi :  export JULIA_NUM_THREADS=2  , set JULIA_NUM_THREADS=2 , il numero di threads va settato in base alla macchina detenuta , se non lo si fa l'uso dei threads è nullo ."
   ]
  },
  {
   "cell_type": "code",
   "execution_count": 6,
   "id": "71bbddf1",
   "metadata": {},
   "outputs": [
    {
     "data": {
      "text/plain": [
       "2"
      ]
     },
     "execution_count": 6,
     "metadata": {},
     "output_type": "execute_result"
    }
   ],
   "source": [
    "using Base.Threads\n",
    "Threads.nthreads() = 2  #setto il numero di threads pari a 2\n",
    "nthreads()"
   ]
  },
  {
   "cell_type": "code",
   "execution_count": 16,
   "id": "79376871",
   "metadata": {},
   "outputs": [
    {
     "data": {
      "text/plain": [
       "hollowBall1 (generic function with 5 methods)"
      ]
     },
     "execution_count": 16,
     "metadata": {},
     "output_type": "execute_result"
    }
   ],
   "source": [
    "function hollowBall1(r=1., R=1., angle1=pi, angle2=2*pi)\n",
    "    function hollowBall01(shape=[24, 36, 3])\n",
    "        V, CV = Lar.cuboidGrid(shape)\n",
    "        V = [angle1/shape[1] 0 0; 0 angle2/shape[2] 0; 0 0 (R-r)/shape[3]]*V\n",
    "        V = broadcast(+, V, [-(angle1)/2, -(angle2)/2, r])\n",
    "        n = size(V,2)\n",
    "        W = Array{Array{Float64,1}}(undef, n)\n",
    "        \n",
    "        @inbounds @threads for k=1:n\n",
    "         W[k] = V[:,k] \n",
    "    end\n",
    "        V = hcat(map(p->let\n",
    "        (u, v, w)=p; [w*cos(u)*cos(v); w*cos(u)*sin(v); w*sin(u)] end, W)...)\n",
    "        W, CW = Lar.simplifyCells(V, CV)\n",
    "        return W, CW\n",
    "    end\n",
    "    return hollowBall01\n",
    "end\n"
   ]
  },
  {
   "cell_type": "code",
   "execution_count": 18,
   "id": "356358e9",
   "metadata": {},
   "outputs": [
    {
     "name": "stdout",
     "output_type": "stream",
     "text": [
      "  19.430 ms (264048 allocations: 21.53 MiB)\n"
     ]
    }
   ],
   "source": [
    "@btime W,CW = hollowBall1()();"
   ]
  },
  {
   "cell_type": "code",
   "execution_count": 17,
   "id": "d123c672",
   "metadata": {},
   "outputs": [
    {
     "name": "stdout",
     "output_type": "stream",
     "text": [
      "  2.293 ms (27527 allocations: 2.44 MiB)\n"
     ]
    }
   ],
   "source": [
    "@btime V, CV = hollowBall1(1, 2, pi/2, pi/2)([6, 12, 4]);"
   ]
  },
  {
   "cell_type": "markdown",
   "id": "8f67926f",
   "metadata": {},
   "source": [
    "Sorprendente vedere quando si passano dei parametri come tutti i valori/tempistiche cambino e anche di molto ."
   ]
  }
 ],
 "metadata": {
  "kernelspec": {
   "display_name": "Julia 1.5.2",
   "language": "julia",
   "name": "julia-1.5"
  },
  "language_info": {
   "file_extension": ".jl",
   "mimetype": "application/julia",
   "name": "julia",
   "version": "1.5.2"
  }
 },
 "nbformat": 4,
 "nbformat_minor": 5
}
