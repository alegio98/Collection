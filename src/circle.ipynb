{
 "cells": [
  {
   "cell_type": "code",
   "execution_count": 9,
   "id": "66cfc2a6",
   "metadata": {},
   "outputs": [],
   "source": [
    "using DataStructures\n",
    "using LinearAlgebraicRepresentation\n",
    "Lar = LinearAlgebraicRepresentation\n",
    "using BenchmarkTools"
   ]
  },
  {
   "cell_type": "markdown",
   "id": "a174bfdb",
   "metadata": {},
   "source": [
    "## Funzione CIRCLE()"
   ]
  },
  {
   "cell_type": "code",
   "execution_count": 2,
   "id": "2abb46e3",
   "metadata": {},
   "outputs": [
    {
     "data": {
      "text/plain": [
       "circle (generic function with 3 methods)"
      ]
     },
     "execution_count": 2,
     "metadata": {},
     "output_type": "execute_result"
    }
   ],
   "source": [
    "function circle(radius=1., angle=2*pi)\n",
    "    function circle0(shape=[36])\n",
    "        V, EV = cuboidGrid(shape)\n",
    "        V = (angle/shape[1])*V\n",
    "        V = hcat(map(u->[radius*cos(u); radius*sin(u)], V)...)\n",
    "        W, EW = simplifyCells(V, EV)\n",
    "        return W, EW\n",
    "    end\n",
    "    return circle0\n",
    "end"
   ]
  },
  {
   "cell_type": "code",
   "execution_count": 3,
   "id": "4544bbac",
   "metadata": {},
   "outputs": [
    {
     "name": "stdout",
     "output_type": "stream",
     "text": [
      "  116.760 μs (1838 allocations: 139.64 KiB)\n"
     ]
    }
   ],
   "source": [
    "@btime W,CW = Lar.circle()();"
   ]
  },
  {
   "cell_type": "code",
   "execution_count": 4,
   "id": "44a6b3b9",
   "metadata": {},
   "outputs": [
    {
     "name": "stdout",
     "output_type": "stream",
     "text": [
      "Variables\n",
      "  #self#\u001b[36m::var\"#circle0#2\"{Float64,Float64}\u001b[39m\n",
      "\n",
      "Body\u001b[91m\u001b[1m::Tuple{Any,Any}\u001b[22m\u001b[39m\n",
      "\u001b[90m1 ─\u001b[39m %1 = Base.vect(36)\u001b[36m::Array{Int64,1}\u001b[39m\n",
      "\u001b[90m│  \u001b[39m %2 = (#self#)(%1)\u001b[91m\u001b[1m::Tuple{Any,Any}\u001b[22m\u001b[39m\n",
      "\u001b[90m└──\u001b[39m      return %2\n"
     ]
    }
   ],
   "source": [
    "@code_warntype circle()();"
   ]
  },
  {
   "cell_type": "markdown",
   "id": "6cc0aa5d",
   "metadata": {},
   "source": [
    "---------------------------------------------------------------------------------------------------------------"
   ]
  },
  {
   "cell_type": "markdown",
   "id": "6b3007c0",
   "metadata": {},
   "source": [
    "La funzione CIRCLE è una funzione che ci consente di costruire un cerchio di raggio 1 in formato 2D , è una funzione che fa solamente quello . Uno degli scopi del progetto era suddividere funzioni che svolgono due o più compiti insieme in funzioni che svolgono uno ed un solo compito. In questo caso circle crea solamente un cerchio . Però per rendere più leggibile il codice spezzo la funzione circle , non ho riscontrato dei miglioramenti .... "
   ]
  },
  {
   "cell_type": "markdown",
   "id": "55f31888",
   "metadata": {},
   "source": [
    "Per ridefinire CIRCLE ho bisogno delle funzioni di supporto ad essa , uso simplifyCellsRef ovvero la funzione principale a cui ho fatto refactoring ."
   ]
  },
  {
   "cell_type": "code",
   "execution_count": 2,
   "id": "b7cc27ce",
   "metadata": {},
   "outputs": [
    {
     "data": {
      "text/plain": [
       "simplifyCellsRef (generic function with 1 method)"
      ]
     },
     "execution_count": 2,
     "metadata": {},
     "output_type": "execute_result"
    }
   ],
   "source": [
    "function simplifyCellsRef(V,CV)\n",
    "    PRECISION = 5\n",
    "    vertDict = DefaultDict{Array{Float64,1}, Int64}(0)\n",
    "    index = 0\n",
    "    W = Array{Float64,1}[]\n",
    "    FW = Array{Int64,1}[]\n",
    "    \n",
    "    for incell in CV\n",
    "        outcell = Int64[]\n",
    "        for v in incell\n",
    "         vert = V[:,v]\n",
    "         key = map(approxVal(PRECISION), vert)\n",
    "            if vertDict[key]==0\n",
    "                index += 1\n",
    "                vertDict[key] = index\n",
    "                push!(outcell, index)\n",
    "                push!(W,key)\n",
    "            else\n",
    "                push!(outcell, vertDict[key])\n",
    "            end\n",
    "        end\n",
    "         push!(FW, [Set(outcell)...])\n",
    "    end\n",
    "    return hcat(W...),FW\n",
    "end"
   ]
  },
  {
   "cell_type": "code",
   "execution_count": 15,
   "id": "c6c736a6",
   "metadata": {},
   "outputs": [
    {
     "data": {
      "text/plain": [
       "approxVal (generic function with 1 method)"
      ]
     },
     "execution_count": 15,
     "metadata": {},
     "output_type": "execute_result"
    }
   ],
   "source": [
    "function approxVal(PRECISION)\n",
    "    function approxVal0(value)\n",
    "        out = round(value, digits=PRECISION)\n",
    "        if out == -0.0\n",
    "            out = 0.0\n",
    "        end\n",
    "        return out\n",
    "    end\n",
    "    return approxVal0\n",
    "end"
   ]
  },
  {
   "cell_type": "code",
   "execution_count": 29,
   "id": "ac22af1f",
   "metadata": {},
   "outputs": [
    {
     "data": {
      "text/plain": [
       "forCircle (generic function with 3 methods)"
      ]
     },
     "execution_count": 29,
     "metadata": {},
     "output_type": "execute_result"
    }
   ],
   "source": [
    "function forCircle(radius,V)\n",
    "  hcat(map(u->[radius*cos(u); radius*sin(u)], V)...)\n",
    "end"
   ]
  },
  {
   "cell_type": "code",
   "execution_count": 35,
   "id": "a916a1b9",
   "metadata": {},
   "outputs": [
    {
     "name": "stdout",
     "output_type": "stream",
     "text": [
      "  137.461 μs (2093 allocations: 144.20 KiB)\n"
     ]
    }
   ],
   "source": [
    " function circle2(radius=1., angle=2*pi)\n",
    "    function circle0(shape=[36])\n",
    "        V, EV = Lar.cuboidGrid(shape)\n",
    "        V = (angle/shape[1])*V\n",
    "        L = forCircle(radius,V)\n",
    "        W, EW = simplifyCellsRef(L, EV)\n",
    "        return W, EW\n",
    "    end\n",
    "    return circle0\n",
    "end\n",
    "\n",
    "@btime W,CW = circle2()();"
   ]
  },
  {
   "cell_type": "markdown",
   "id": "5d8bdd08",
   "metadata": {},
   "source": [
    "Potrei ridefinire una funzione che svolge lo stesso compito di map , ma studiando ho capito che map è molto piu veloce su dimensioni di array grandi oltre ad avere una sintattica piu elegante e coincisa . "
   ]
  },
  {
   "cell_type": "code",
   "execution_count": 36,
   "id": "3e2f626b",
   "metadata": {},
   "outputs": [
    {
     "name": "stdout",
     "output_type": "stream",
     "text": [
      "Variables\n",
      "  #self#\u001b[36m::var\"#circle0#47\"{Float64,Float64}\u001b[39m\n",
      "\n",
      "Body\u001b[91m\u001b[1m::Tuple{Array,Array{Array{Int64,1},1}}\u001b[22m\u001b[39m\n",
      "\u001b[90m1 ─\u001b[39m %1 = Base.vect(36)\u001b[36m::Array{Int64,1}\u001b[39m\n",
      "\u001b[90m│  \u001b[39m %2 = (#self#)(%1)\u001b[91m\u001b[1m::Tuple{Array,Array{Array{Int64,1},1}}\u001b[22m\u001b[39m\n",
      "\u001b[90m└──\u001b[39m      return %2\n"
     ]
    }
   ],
   "source": [
    "@code_warntype circle2()();"
   ]
  },
  {
   "cell_type": "markdown",
   "id": "1872f0a7",
   "metadata": {},
   "source": [
    "Con la macro @code_warntype noto delle differenze rispetto alla precedente .."
   ]
  }
 ],
 "metadata": {
  "kernelspec": {
   "display_name": "Julia 1.5.2",
   "language": "julia",
   "name": "julia-1.5"
  },
  "language_info": {
   "file_extension": ".jl",
   "mimetype": "application/julia",
   "name": "julia",
   "version": "1.5.2"
  }
 },
 "nbformat": 4,
 "nbformat_minor": 5
}
