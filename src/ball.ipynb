{
 "cells": [
  {
   "cell_type": "code",
   "execution_count": 1,
   "id": "85d91ad0",
   "metadata": {},
   "outputs": [],
   "source": [
    "using DataStructures\n",
    "using LinearAlgebraicRepresentation\n",
    "Lar = LinearAlgebraicRepresentation\n",
    "using BenchmarkTools"
   ]
  },
  {
   "cell_type": "markdown",
   "id": "aca182ee",
   "metadata": {},
   "source": [
    "## funzione BALL()"
   ]
  },
  {
   "cell_type": "code",
   "execution_count": 2,
   "id": "4f898614",
   "metadata": {},
   "outputs": [
    {
     "data": {
      "text/plain": [
       "ball (generic function with 4 methods)"
      ]
     },
     "execution_count": 2,
     "metadata": {},
     "output_type": "execute_result"
    }
   ],
   "source": [
    "function ball(radius=1, angle1=pi, angle2=2*pi)\n",
    "    function ball0(shape=[18, 36, 4])\n",
    "        V, CV = Lar.cuboidGrid(shape)\n",
    "        V = [angle1/shape[1] 0 0; 0 angle2/shape[2] 0; 0 0 radius/shape[3]]*V\n",
    "        V = broadcast(+, V, [-(angle1)/2, -(angle2)/2, 0])\n",
    "        W = [V[:, k] for k=1:size(V, 2)]\n",
    "        V = hcat(map(p->let\n",
    "        (u, v, w)=p; [w*cos(u)*cos(v); w*cos(u)*sin(v); w*sin(u)] end, W)...)\n",
    "        W, CW = simplifyCells(V, CV)\n",
    "        return W, CW\n",
    "    end\n",
    "    return ball0\n",
    "end\n"
   ]
  },
  {
   "cell_type": "code",
   "execution_count": 3,
   "id": "108f9b6f",
   "metadata": {},
   "outputs": [
    {
     "name": "stdout",
     "output_type": "stream",
     "text": [
      "  20.399 ms (277370 allocations: 21.92 MiB)\n"
     ]
    }
   ],
   "source": [
    "@btime W,CW = Lar.ball()();"
   ]
  },
  {
   "cell_type": "code",
   "execution_count": 4,
   "id": "07ce4213",
   "metadata": {},
   "outputs": [
    {
     "name": "stdout",
     "output_type": "stream",
     "text": [
      "Variables\n",
      "  #self#\u001b[36m::LinearAlgebraicRepresentation.var\"#ball0#312\"{Int64,Irrational{:π},Float64}\u001b[39m\n",
      "\n",
      "Body\u001b[91m\u001b[1m::Tuple{Array,Array{Array{Int64,1},1}}\u001b[22m\u001b[39m\n",
      "\u001b[90m1 ─\u001b[39m %1 = Base.vect(18, 36, 4)\u001b[36m::Array{Int64,1}\u001b[39m\n",
      "\u001b[90m│  \u001b[39m %2 = (#self#)(%1)\u001b[91m\u001b[1m::Tuple{Array,Array{Array{Int64,1},1}}\u001b[22m\u001b[39m\n",
      "\u001b[90m└──\u001b[39m      return %2\n"
     ]
    }
   ],
   "source": [
    "@code_warntype Lar.ball()();"
   ]
  },
  {
   "cell_type": "markdown",
   "id": "747198b0",
   "metadata": {},
   "source": [
    "funzione NON è type unstable poiche Body::Tuple{Array,Array{Array{Int64,1},1}}\n"
   ]
  },
  {
   "cell_type": "code",
   "execution_count": 5,
   "id": "db2864bf",
   "metadata": {},
   "outputs": [
    {
     "data": {
      "text/plain": [
       "BenchmarkTools.Trial: 200 samples with 1 evaluation.\n",
       " Range \u001b[90m(\u001b[39m\u001b[36m\u001b[1mmin\u001b[22m\u001b[39m … \u001b[35mmax\u001b[39m\u001b[90m):  \u001b[39m\u001b[36m\u001b[1m20.504 ms\u001b[22m\u001b[39m … \u001b[35m39.432 ms\u001b[39m  \u001b[90m┊\u001b[39m GC \u001b[90m(\u001b[39mmin … max\u001b[90m): \u001b[39m0.00% … 12.24%\n",
       " Time  \u001b[90m(\u001b[39m\u001b[34m\u001b[1mmedian\u001b[22m\u001b[39m\u001b[90m):     \u001b[39m\u001b[34m\u001b[1m24.389 ms              \u001b[22m\u001b[39m\u001b[90m┊\u001b[39m GC \u001b[90m(\u001b[39mmedian\u001b[90m):    \u001b[39m6.79%\n",
       " Time  \u001b[90m(\u001b[39m\u001b[32m\u001b[1mmean\u001b[22m\u001b[39m ± \u001b[32mσ\u001b[39m\u001b[90m):   \u001b[39m\u001b[32m\u001b[1m25.029 ms\u001b[22m\u001b[39m ± \u001b[32m 3.603 ms\u001b[39m  \u001b[90m┊\u001b[39m GC \u001b[90m(\u001b[39mmean ± σ\u001b[90m):  \u001b[39m8.22% ±  7.73%\n",
       "\n",
       "  \u001b[39m█\u001b[39m \u001b[39m \u001b[39m \u001b[39m \u001b[39m \u001b[39m \u001b[39m \u001b[39m \u001b[39m \u001b[39m \u001b[39m \u001b[39m \u001b[39m \u001b[39m▄\u001b[34m \u001b[39m\u001b[39m \u001b[39m \u001b[32m \u001b[39m\u001b[39m \u001b[39m \u001b[39m \u001b[39m▁\u001b[39m \u001b[39m \u001b[39m \u001b[39m \u001b[39m \u001b[39m \u001b[39m \u001b[39m \u001b[39m \u001b[39m \u001b[39m \u001b[39m \u001b[39m \u001b[39m \u001b[39m \u001b[39m \u001b[39m \u001b[39m \u001b[39m \u001b[39m \u001b[39m \u001b[39m \u001b[39m \u001b[39m \u001b[39m \u001b[39m \u001b[39m \u001b[39m \u001b[39m \u001b[39m \u001b[39m \u001b[39m \u001b[39m \u001b[39m \u001b[39m \u001b[39m \u001b[39m \u001b[39m \n",
       "  \u001b[39m█\u001b[39m█\u001b[39m▅\u001b[39m▆\u001b[39m▄\u001b[39m▄\u001b[39m▃\u001b[39m▃\u001b[39m▄\u001b[39m▆\u001b[39m▆\u001b[39m▆\u001b[39m▃\u001b[39m▅\u001b[39m█\u001b[34m▇\u001b[39m\u001b[39m▇\u001b[39m▃\u001b[32m▄\u001b[39m\u001b[39m▄\u001b[39m▄\u001b[39m▃\u001b[39m█\u001b[39m▆\u001b[39m▄\u001b[39m▃\u001b[39m▄\u001b[39m▄\u001b[39m▃\u001b[39m▆\u001b[39m▃\u001b[39m▃\u001b[39m▁\u001b[39m▅\u001b[39m▃\u001b[39m▃\u001b[39m▄\u001b[39m▄\u001b[39m▃\u001b[39m▃\u001b[39m▃\u001b[39m▄\u001b[39m▁\u001b[39m▁\u001b[39m▃\u001b[39m▃\u001b[39m▄\u001b[39m▃\u001b[39m▁\u001b[39m▃\u001b[39m▁\u001b[39m▁\u001b[39m▁\u001b[39m▃\u001b[39m▁\u001b[39m▁\u001b[39m▁\u001b[39m▁\u001b[39m▃\u001b[39m \u001b[39m▃\n",
       "  20.5 ms\u001b[90m         Histogram: frequency by time\u001b[39m        35.5 ms \u001b[0m\u001b[1m<\u001b[22m\n",
       "\n",
       " Memory estimate\u001b[90m: \u001b[39m\u001b[33m21.92 MiB\u001b[39m, allocs estimate\u001b[90m: \u001b[39m\u001b[33m277368\u001b[39m."
      ]
     },
     "execution_count": 5,
     "metadata": {},
     "output_type": "execute_result"
    }
   ],
   "source": [
    "@benchmark Lar.ball()()"
   ]
  },
  {
   "cell_type": "markdown",
   "id": "fce1a3a9",
   "metadata": {},
   "source": [
    "## Uso della macro @threads "
   ]
  },
  {
   "cell_type": "markdown",
   "id": "72b308b6",
   "metadata": {},
   "source": [
    "#### Per settare il numero di threads pari a 2 ho dovuto per forza eseguire (come scritto nella guida di julia) i seguenti passaggi :  export JULIA_NUM_THREADS=2  , set JULIA_NUM_THREADS=2 , il numero di threads va settato in base alla macchina detenuta , se non lo si fa l'uso dei threads è nullo ."
   ]
  },
  {
   "cell_type": "code",
   "execution_count": 6,
   "id": "527b3a32",
   "metadata": {},
   "outputs": [
    {
     "data": {
      "text/plain": [
       "2"
      ]
     },
     "execution_count": 6,
     "metadata": {},
     "output_type": "execute_result"
    }
   ],
   "source": [
    "using Base.Threads\n",
    "Threads.nthreads() = 2  #setto il numero di threads pari a 2\n",
    "nthreads()"
   ]
  },
  {
   "cell_type": "code",
   "execution_count": 11,
   "id": "66ea59e4",
   "metadata": {},
   "outputs": [
    {
     "data": {
      "text/plain": [
       "ball2 (generic function with 4 methods)"
      ]
     },
     "execution_count": 11,
     "metadata": {},
     "output_type": "execute_result"
    }
   ],
   "source": [
    "function ball2(radius=1, angle1=pi, angle2=2*pi)\n",
    "    function ball02(shape=[18, 36, 4])\n",
    "        V, CV = Lar.cuboidGrid(shape)\n",
    "        V = [angle1/shape[1] 0 0; 0 angle2/shape[2] 0; 0 0 radius/shape[3]]*V\n",
    "        V = broadcast(+, V, [-(angle1)/2, -(angle2)/2, 0])\n",
    "        n = size(V,2)\n",
    "        W = Array{Array{Float64,1}}(undef, n)\n",
    "        \n",
    "        @inbounds @threads for k=1:n\n",
    "         W[k] = V[:,k] \n",
    "        end \n",
    "        V = hcat(map(p->let\n",
    "        (u, v, w)=p; [w*cos(u)*cos(v); w*cos(u)*sin(v); w*sin(u)] end, W)...)\n",
    "        W, CW = Lar.simplifyCells(V, CV)\n",
    "        return W, CW\n",
    "    end\n",
    "    return ball02\n",
    "end"
   ]
  },
  {
   "cell_type": "code",
   "execution_count": 12,
   "id": "600680ad",
   "metadata": {},
   "outputs": [
    {
     "name": "stdout",
     "output_type": "stream",
     "text": [
      "  17.564 ms (241358 allocations: 19.01 MiB)\n"
     ]
    }
   ],
   "source": [
    "@btime W,CW = ball2()();"
   ]
  },
  {
   "cell_type": "markdown",
   "id": "5f2c98fd",
   "metadata": {},
   "source": [
    "Tempo esecuzione migliorato di poco , uso dei threads applicabile solo in questo modo , il ciclo for è stato esternato (obbligatorio infatti anche nelle altre funzioni è stato fatto cosi ) per permettermi di usare la macro @threads . @inbounds spiegata nel dettaglio nella relazione."
   ]
  }
 ],
 "metadata": {
  "kernelspec": {
   "display_name": "Julia 1.5.2",
   "language": "julia",
   "name": "julia-1.5"
  },
  "language_info": {
   "file_extension": ".jl",
   "mimetype": "application/julia",
   "name": "julia",
   "version": "1.5.2"
  }
 },
 "nbformat": 4,
 "nbformat_minor": 5
}
