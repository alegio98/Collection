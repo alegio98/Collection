{
 "cells": [
  {
   "cell_type": "code",
   "execution_count": 1,
   "id": "73dc26cf",
   "metadata": {},
   "outputs": [],
   "source": [
    "using DataStructures\n",
    "using LinearAlgebraicRepresentation\n",
    "Lar = LinearAlgebraicRepresentation\n",
    "using BenchmarkTools"
   ]
  },
  {
   "cell_type": "markdown",
   "id": "bf566058",
   "metadata": {},
   "source": [
    "## Funzione da ottimizzare  HELICOID()"
   ]
  },
  {
   "cell_type": "code",
   "execution_count": 3,
   "id": "114f5c03",
   "metadata": {},
   "outputs": [
    {
     "data": {
      "text/plain": [
       "helicoid (generic function with 5 methods)"
      ]
     },
     "execution_count": 3,
     "metadata": {},
     "output_type": "execute_result"
    }
   ],
   "source": [
    "function helicoid(R=1., r=0.5, pitch=1., nturns=2)\n",
    "    function helicoid0(shape=[36*nturns, 2])\n",
    "        angle = nturns*2*pi\n",
    "        V, CV = Lar.simplexGrid(shape)\n",
    "        V = [angle/shape[1] 0;0 (R-r)/shape[2]]*V\n",
    "        V = broadcast(+, V, [0, r])\n",
    "        W = [V[:, k] for k=1:size(V, 2)]\n",
    "        V = hcat(map(p->let(u, v)=p;[v*cos(u);v*sin(u);\n",
    "        (pitch/(2*pi))*u] end, W)...)\n",
    "        return V, CV\n",
    "    end\n",
    "    return helicoid0\n",
    "end\n"
   ]
  },
  {
   "cell_type": "code",
   "execution_count": 4,
   "id": "6027db1a",
   "metadata": {},
   "outputs": [
    {
     "name": "stdout",
     "output_type": "stream",
     "text": [
      "  207.998 μs (3155 allocations: 379.17 KiB)\n"
     ]
    }
   ],
   "source": [
    "@btime W,CW = Lar.helicoid()();"
   ]
  },
  {
   "cell_type": "code",
   "execution_count": 5,
   "id": "1d35a86d",
   "metadata": {},
   "outputs": [
    {
     "name": "stdout",
     "output_type": "stream",
     "text": [
      "Variables\n",
      "  #self#\u001b[36m::LinearAlgebraicRepresentation.var\"#helicoid0#274\"{Float64,Float64,Float64,Int64}\u001b[39m\n",
      "\n",
      "Body\u001b[91m\u001b[1m::Tuple{Any,Any}\u001b[22m\u001b[39m\n",
      "\u001b[90m1 ─\u001b[39m %1 = Core.getfield(#self#, :nturns)\u001b[36m::Int64\u001b[39m\n",
      "\u001b[90m│  \u001b[39m %2 = (36 * %1)\u001b[36m::Int64\u001b[39m\n",
      "\u001b[90m│  \u001b[39m %3 = Base.vect(%2, 2)\u001b[36m::Array{Int64,1}\u001b[39m\n",
      "\u001b[90m│  \u001b[39m %4 = (#self#)(%3)\u001b[91m\u001b[1m::Tuple{Any,Any}\u001b[22m\u001b[39m\n",
      "\u001b[90m└──\u001b[39m      return %4\n"
     ]
    }
   ],
   "source": [
    "@code_warntype Lar.helicoid()();"
   ]
  },
  {
   "cell_type": "code",
   "execution_count": 6,
   "id": "381ce48b",
   "metadata": {},
   "outputs": [
    {
     "data": {
      "text/plain": [
       "BenchmarkTools.Trial: 10000 samples with 1 evaluation.\n",
       " Range \u001b[90m(\u001b[39m\u001b[36m\u001b[1mmin\u001b[22m\u001b[39m … \u001b[35mmax\u001b[39m\u001b[90m):  \u001b[39m\u001b[36m\u001b[1m217.511 μs\u001b[22m\u001b[39m … \u001b[35m  7.523 ms\u001b[39m  \u001b[90m┊\u001b[39m GC \u001b[90m(\u001b[39mmin … max\u001b[90m): \u001b[39m 0.00% … 90.99%\n",
       " Time  \u001b[90m(\u001b[39m\u001b[34m\u001b[1mmedian\u001b[22m\u001b[39m\u001b[90m):     \u001b[39m\u001b[34m\u001b[1m385.938 μs               \u001b[22m\u001b[39m\u001b[90m┊\u001b[39m GC \u001b[90m(\u001b[39mmedian\u001b[90m):    \u001b[39m 0.00%\n",
       " Time  \u001b[90m(\u001b[39m\u001b[32m\u001b[1mmean\u001b[22m\u001b[39m ± \u001b[32mσ\u001b[39m\u001b[90m):   \u001b[39m\u001b[32m\u001b[1m408.129 μs\u001b[22m\u001b[39m ± \u001b[32m518.553 μs\u001b[39m  \u001b[90m┊\u001b[39m GC \u001b[90m(\u001b[39mmean ± σ\u001b[90m):  \u001b[39m10.99% ±  8.26%\n",
       "\n",
       "  \u001b[39m \u001b[39m▆\u001b[39m█\u001b[39m▂\u001b[39m \u001b[39m \u001b[39m \u001b[39m \u001b[39m \u001b[39m \u001b[39m \u001b[39m \u001b[39m \u001b[39m \u001b[39m \u001b[39m \u001b[39m \u001b[39m \u001b[39m \u001b[39m \u001b[39m \u001b[39m \u001b[34m \u001b[39m\u001b[39m \u001b[39m \u001b[32m▁\u001b[39m\u001b[39m \u001b[39m \u001b[39m \u001b[39m \u001b[39m \u001b[39m \u001b[39m \u001b[39m \u001b[39m \u001b[39m \u001b[39m \u001b[39m \u001b[39m \u001b[39m \u001b[39m \u001b[39m \u001b[39m \u001b[39m \u001b[39m \u001b[39m \u001b[39m \u001b[39m \u001b[39m \u001b[39m \u001b[39m \u001b[39m \u001b[39m \u001b[39m \u001b[39m \u001b[39m \u001b[39m \u001b[39m \u001b[39m \u001b[39m \u001b[39m \u001b[39m \u001b[39m \n",
       "  \u001b[39m▄\u001b[39m█\u001b[39m█\u001b[39m█\u001b[39m▆\u001b[39m▄\u001b[39m▃\u001b[39m▃\u001b[39m▃\u001b[39m▃\u001b[39m▂\u001b[39m▃\u001b[39m▂\u001b[39m▃\u001b[39m▃\u001b[39m▃\u001b[39m▃\u001b[39m▄\u001b[39m▅\u001b[39m▅\u001b[39m▆\u001b[39m▆\u001b[34m▇\u001b[39m\u001b[39m█\u001b[39m█\u001b[32m█\u001b[39m\u001b[39m█\u001b[39m█\u001b[39m▇\u001b[39m▆\u001b[39m▅\u001b[39m▄\u001b[39m▄\u001b[39m▃\u001b[39m▃\u001b[39m▃\u001b[39m▄\u001b[39m▄\u001b[39m▄\u001b[39m▄\u001b[39m▄\u001b[39m▃\u001b[39m▃\u001b[39m▃\u001b[39m▂\u001b[39m▂\u001b[39m▂\u001b[39m▂\u001b[39m▂\u001b[39m▂\u001b[39m▂\u001b[39m▂\u001b[39m▂\u001b[39m▂\u001b[39m▂\u001b[39m▂\u001b[39m▂\u001b[39m▂\u001b[39m▁\u001b[39m▂\u001b[39m▂\u001b[39m \u001b[39m▃\n",
       "  218 μs\u001b[90m           Histogram: frequency by time\u001b[39m          675 μs \u001b[0m\u001b[1m<\u001b[22m\n",
       "\n",
       " Memory estimate\u001b[90m: \u001b[39m\u001b[33m379.11 KiB\u001b[39m, allocs estimate\u001b[90m: \u001b[39m\u001b[33m3153\u001b[39m."
      ]
     },
     "execution_count": 6,
     "metadata": {},
     "output_type": "execute_result"
    }
   ],
   "source": [
    "@benchmark Lar.helicoid()()"
   ]
  },
  {
   "cell_type": "markdown",
   "id": "62d39b59",
   "metadata": {},
   "source": [
    "## Uso della macro @threads "
   ]
  },
  {
   "cell_type": "markdown",
   "id": "0ddac161",
   "metadata": {},
   "source": [
    "#### Per settare il numero di threads pari a 2 ho dovuto per forza eseguire (come scritto nella guida di julia) i seguenti passaggi :  export JULIA_NUM_THREADS=2  , set JULIA_NUM_THREADS=2 , il numero di threads va settato in base alla macchina detenuta , se non lo si fa l'uso dei threads è nullo ."
   ]
  },
  {
   "cell_type": "code",
   "execution_count": 16,
   "id": "2816012b",
   "metadata": {},
   "outputs": [
    {
     "data": {
      "text/plain": [
       "2"
      ]
     },
     "execution_count": 16,
     "metadata": {},
     "output_type": "execute_result"
    }
   ],
   "source": [
    "using Base.Threads\n",
    "Threads.nthreads() = 2  #setto il numero di threads pari a 2\n",
    "nthreads()"
   ]
  },
  {
   "cell_type": "code",
   "execution_count": 21,
   "id": "774a4d8e",
   "metadata": {},
   "outputs": [
    {
     "data": {
      "text/plain": [
       "helicoid2 (generic function with 5 methods)"
      ]
     },
     "execution_count": 21,
     "metadata": {},
     "output_type": "execute_result"
    }
   ],
   "source": [
    "function helicoid2(R=1., r=0.5, pitch=1., nturns=2)\n",
    "    function helicoid02(shape=[36*nturns, 2])\n",
    "        angle = nturns*2*pi\n",
    "        V, CV = Lar.simplexGrid(shape)\n",
    "        V = [angle/shape[1] 0;0 (R-r)/shape[2]]*V\n",
    "        V = broadcast(+, V, [0, r])\n",
    "        n = size(V,2)\n",
    "        W = Array{Array{Float64,1}}(undef, n)\n",
    "        \n",
    "        @inbounds @threads for k=1:n\n",
    "         W[k] = V[:,k] \n",
    "        end \n",
    "        V = hcat(map(p->let(u, v)=p;[v*cos(u);v*sin(u);\n",
    "        (pitch/(2*pi))*u] end, W)...)\n",
    "        return V, CV\n",
    "    end\n",
    "    return helicoid02\n",
    "end"
   ]
  },
  {
   "cell_type": "code",
   "execution_count": 22,
   "id": "de3bee30",
   "metadata": {},
   "outputs": [
    {
     "name": "stdout",
     "output_type": "stream",
     "text": [
      "  186.293 μs (2817 allocations: 328.83 KiB)\n"
     ]
    }
   ],
   "source": [
    "@btime W,CW = helicoid2()();"
   ]
  },
  {
   "cell_type": "markdown",
   "id": "5a867645",
   "metadata": {},
   "source": [
    "E' sorprendente vedere che helicoid è una delle poche funzioni che non utilizza simplifyCells , con l'applicazione delle macro settando nel giusto modo i threads , le prestazioni sono leggermente migliorate come si puo vedere.   "
   ]
  },
  {
   "cell_type": "code",
   "execution_count": null,
   "id": "179e230d",
   "metadata": {},
   "outputs": [],
   "source": []
  }
 ],
 "metadata": {
  "kernelspec": {
   "display_name": "Julia 1.5.2",
   "language": "julia",
   "name": "julia-1.5"
  },
  "language_info": {
   "file_extension": ".jl",
   "mimetype": "application/julia",
   "name": "julia",
   "version": "1.5.2"
  }
 },
 "nbformat": 4,
 "nbformat_minor": 5
}
