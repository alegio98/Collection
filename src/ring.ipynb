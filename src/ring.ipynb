{
 "cells": [
  {
   "cell_type": "code",
   "execution_count": 2,
   "id": "ac138506",
   "metadata": {},
   "outputs": [],
   "source": [
    "using DataStructures\n",
    "using LinearAlgebraicRepresentation\n",
    "Lar = LinearAlgebraicRepresentation\n",
    "using BenchmarkTools"
   ]
  },
  {
   "cell_type": "markdown",
   "id": "25cf28ef",
   "metadata": {},
   "source": [
    "## Funzione RING()"
   ]
  },
  {
   "cell_type": "code",
   "execution_count": 24,
   "id": "55880952",
   "metadata": {},
   "outputs": [
    {
     "data": {
      "text/plain": [
       "ring (generic function with 4 methods)"
      ]
     },
     "execution_count": 24,
     "metadata": {},
     "output_type": "execute_result"
    }
   ],
   "source": [
    "function ring(r=1., R=2., angle=2*pi)\n",
    "    function ring0(shape=[36, 1])\n",
    "        V, CV = cuboidGrid(shape)\n",
    "        CV = [[[u,v,w],[w,v,t]] for (u,v,w,t) in CV]\n",
    "        CV = reduce(append!,CV)\n",
    "        V = [angle/shape[1] 0;0 (R-r)/shape[2]]*V\n",
    "        V = broadcast(+, V, [0, r])\n",
    "        W = [V[:, k] for k=1:size(V, 2)]\n",
    "        V = hcat(map(p->let(u, v)=p;[v*cos(u);v*sin(u)] end, W)...)\n",
    "        W, CW = simplifyCells(V, CV)\n",
    "        CW = [cell for cell in CW if length(cell)==3]\n",
    "        return W,CW\n",
    "    end\n",
    "    return ring0\n",
    "end"
   ]
  },
  {
   "cell_type": "code",
   "execution_count": 25,
   "id": "bb71bf68",
   "metadata": {},
   "outputs": [
    {
     "name": "stdout",
     "output_type": "stream",
     "text": [
      "  263.288 μs (3395 allocations: 290.61 KiB)\n"
     ]
    }
   ],
   "source": [
    "@btime W,CW = Lar.ring()();"
   ]
  },
  {
   "cell_type": "code",
   "execution_count": 4,
   "id": "c27b3a32",
   "metadata": {},
   "outputs": [
    {
     "name": "stdout",
     "output_type": "stream",
     "text": [
      "Variables\n",
      "  #self#\u001b[36m::LinearAlgebraicRepresentation.var\"#ring0#281\"{Float64,Float64,Float64}\u001b[39m\n",
      "\n",
      "Body\u001b[91m\u001b[1m::Tuple{Array,Array{Array{Int64,1},1}}\u001b[22m\u001b[39m\n",
      "\u001b[90m1 ─\u001b[39m %1 = Base.vect(36, 1)\u001b[36m::Array{Int64,1}\u001b[39m\n",
      "\u001b[90m│  \u001b[39m %2 = (#self#)(%1)\u001b[91m\u001b[1m::Tuple{Array,Array{Array{Int64,1},1}}\u001b[22m\u001b[39m\n",
      "\u001b[90m└──\u001b[39m      return %2\n"
     ]
    }
   ],
   "source": [
    "@code_warntype Lar.ring()();"
   ]
  },
  {
   "cell_type": "code",
   "execution_count": null,
   "id": "b46f6cde",
   "metadata": {},
   "outputs": [],
   "source": [
    "@benchmark Lar.ring()()"
   ]
  },
  {
   "cell_type": "markdown",
   "id": "84e1a202",
   "metadata": {},
   "source": [
    "## Uso macro @threads "
   ]
  },
  {
   "cell_type": "markdown",
   "id": "5a7e8e16",
   "metadata": {},
   "source": [
    "#### Per settare il numero di threads pari a 2 ho dovuto per forza eseguire (come scritto nella guida di julia) i seguenti passaggi :  export JULIA_NUM_THREADS=2  , set JULIA_NUM_THREADS=2 , il numero di threads va settato in base alla macchina detenuta , se non lo si fa l'uso dei threads è nullo ."
   ]
  },
  {
   "cell_type": "code",
   "execution_count": 5,
   "id": "27f7648c",
   "metadata": {},
   "outputs": [
    {
     "data": {
      "text/plain": [
       "2"
      ]
     },
     "execution_count": 5,
     "metadata": {},
     "output_type": "execute_result"
    }
   ],
   "source": [
    "using Base.Threads\n",
    "Threads.nthreads() = 2  #setto il numero di threads pari a 2\n",
    "nthreads()   "
   ]
  },
  {
   "cell_type": "code",
   "execution_count": 21,
   "id": "f79b6354",
   "metadata": {},
   "outputs": [
    {
     "data": {
      "text/plain": [
       "simplifyCellsRef (generic function with 1 method)"
      ]
     },
     "execution_count": 21,
     "metadata": {},
     "output_type": "execute_result"
    }
   ],
   "source": [
    "function simplifyCellsRef(V,CV)\n",
    "    PRECISION = 5\n",
    "    vertDict = DefaultDict{Array{Float64,1}, Int64}(0)\n",
    "    index = 0\n",
    "    W = Array{Float64,1}[]\n",
    "    FW = Array{Int64,1}[]\n",
    "    \n",
    "    for incell in CV\n",
    "        outcell = Int64[]\n",
    "        for v in incell\n",
    "         vert = V[:,v]\n",
    "         key = map(approxVal(PRECISION), vert)\n",
    "            if vertDict[key]==0\n",
    "                index += 1\n",
    "                vertDict[key] = index\n",
    "                push!(outcell, index)\n",
    "                push!(W,key)\n",
    "            else\n",
    "                push!(outcell, vertDict[key])\n",
    "            end\n",
    "        end\n",
    "         push!(FW, [Set(outcell)...])\n",
    "    end\n",
    "    return hcat(W...),FW\n",
    "end"
   ]
  },
  {
   "cell_type": "code",
   "execution_count": 22,
   "id": "36546928",
   "metadata": {},
   "outputs": [
    {
     "data": {
      "text/plain": [
       "approxVal (generic function with 1 method)"
      ]
     },
     "execution_count": 22,
     "metadata": {},
     "output_type": "execute_result"
    }
   ],
   "source": [
    "function approxVal(PRECISION)\n",
    "    function approxVal0(value)\n",
    "        out = round(value, digits=PRECISION)\n",
    "        if out == -0.0\n",
    "            out = 0.0\n",
    "        end\n",
    "        return out\n",
    "    end\n",
    "    return approxVal0\n",
    "end"
   ]
  },
  {
   "cell_type": "markdown",
   "id": "a253f191",
   "metadata": {},
   "source": [
    "funzioni di supporto "
   ]
  },
  {
   "cell_type": "markdown",
   "id": "2d861c97",
   "metadata": {},
   "source": [
    "Funzione rivisitata per applicarci le macro @threads e @inbounds , ciclo for esteso ."
   ]
  },
  {
   "cell_type": "code",
   "execution_count": 23,
   "id": "07e76492",
   "metadata": {},
   "outputs": [
    {
     "name": "stdout",
     "output_type": "stream",
     "text": [
      "  262.429 μs (3316 allocations: 281.59 KiB)\n"
     ]
    }
   ],
   "source": [
    "function ring1(r=1., R=2., angle=2*pi)\n",
    "    function ring01(shape=[36, 1])\n",
    "        V, CV = Lar.cuboidGrid(shape)\n",
    "        CV = [[[u,v,w],[w,v,t]] for (u,v,w,t) in CV]\n",
    "        CV = reduce(append!,CV)\n",
    "        V = [angle/shape[1] 0;0 (R-r)/shape[2]]*V\n",
    "        V = broadcast(+, V, [0, r])\n",
    "        \n",
    "        n = size(V,2)\n",
    "        W = Array{Array{Float64,1}}(undef, n)\n",
    "        \n",
    "         @inbounds @threads for k=1:n\n",
    "         W[k] = V[:,k] \n",
    "    end\n",
    "       \n",
    "        V = hcat(map(p->let(u, v)=p;[v*cos(u);v*sin(u)] end, W)...)\n",
    "        W, CW = simplifyCellsRef(V, CV)\n",
    "        filter!(cell -> length(cell)==3,CW)\n",
    "        return W,CW\n",
    "    end\n",
    "    return ring01\n",
    "end\n",
    "\n",
    "@btime W,CW = ring1()();"
   ]
  },
  {
   "cell_type": "markdown",
   "id": "195e1c9a",
   "metadata": {},
   "source": [
    "Prestazioni migliorate di poco . Ho usato le funzioni di supporto per poter poi modificare e interagire con la mia versione della funzione ring , ho cercato di utilizzare i threads quindi per farlo ho dovuto \"esternare\" il ciclo for , cosi facendo ho potuto usare la macro @threads . Di fatti i cambiamenti non sono efficienti e spesso meno comprensibili e piu disordinati ma solo in questo modo sono state possibili applicare le macro . Senza l'uso delle macro , con il seguente ciclo for ho notato che la velocità di esecuzione aumenta di molto ( si puo notare nel notebook \"disk\" , nel caso di disk ho deciso di non omettere nessun passaggio e far vedere tutta l'evoluzione del codice stampandone i risultati legati alla velocità di esecuzione . ) Questo messaggio è comune e sarà riportato alla fine di ogni notebook ."
   ]
  }
 ],
 "metadata": {
  "kernelspec": {
   "display_name": "Julia 1.5.2",
   "language": "julia",
   "name": "julia-1.5"
  },
  "language_info": {
   "file_extension": ".jl",
   "mimetype": "application/julia",
   "name": "julia",
   "version": "1.5.2"
  }
 },
 "nbformat": 4,
 "nbformat_minor": 5
}
