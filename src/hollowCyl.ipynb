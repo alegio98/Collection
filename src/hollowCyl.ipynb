{
 "cells": [
  {
   "cell_type": "code",
   "execution_count": 3,
   "id": "fa41ac5d",
   "metadata": {},
   "outputs": [],
   "source": [
    "using DataStructures\n",
    "using LinearAlgebraicRepresentation\n",
    "Lar = LinearAlgebraicRepresentation\n",
    "using BenchmarkTools"
   ]
  },
  {
   "cell_type": "code",
   "execution_count": 2,
   "id": "bd755299",
   "metadata": {},
   "outputs": [
    {
     "data": {
      "text/plain": [
       "hollowCyl (generic function with 5 methods)"
      ]
     },
     "execution_count": 2,
     "metadata": {},
     "output_type": "execute_result"
    }
   ],
   "source": [
    "function hollowCyl(r=1., R=2., height=6., angle=2*pi)\n",
    "    function hollowCyl0(shape=[36, 1, 1])\n",
    "        V, CV = cuboidGrid(shape)\n",
    "        V = [angle/shape[1] 0 0;0 (R-r)/shape[2] 0;0 0 height/shape[3]]*V\n",
    "        V = broadcast(+, V, [0, r, 0])\n",
    "        W = [V[:, k] for k=1:size(V, 2)]\n",
    "        V = hcat(map(p->let(u, v, z)=p;[v*cos(u);v*sin(u);z] end, W)...)\n",
    "        W, CW = simplifyCells(V, CV)\n",
    "        return W, CW\n",
    "    end\n",
    "    return hollowCyl0\n",
    "end"
   ]
  },
  {
   "cell_type": "code",
   "execution_count": 3,
   "id": "da8d8816",
   "metadata": {},
   "outputs": [
    {
     "name": "stdout",
     "output_type": "stream",
     "text": [
      "Variables\n",
      "  #self#\u001b[36m::LinearAlgebraicRepresentation.var\"#hollowCyl0#318\"{Float64,Float64,Float64,Float64}\u001b[39m\n",
      "\n",
      "Body\u001b[91m\u001b[1m::Tuple{Array,Array{Array{Int64,1},1}}\u001b[22m\u001b[39m\n",
      "\u001b[90m1 ─\u001b[39m %1 = Base.vect(36, 1, 1)\u001b[36m::Array{Int64,1}\u001b[39m\n",
      "\u001b[90m│  \u001b[39m %2 = (#self#)(%1)\u001b[91m\u001b[1m::Tuple{Array,Array{Array{Int64,1},1}}\u001b[22m\u001b[39m\n",
      "\u001b[90m└──\u001b[39m      return %2\n"
     ]
    }
   ],
   "source": [
    "@code_warntype Lar.hollowCyl()();"
   ]
  },
  {
   "cell_type": "markdown",
   "id": "7efa76bd",
   "metadata": {},
   "source": [
    "La funzione è NON type unstable poiche Body::Tuple{Array,Array{Array{Int64,1},1}}"
   ]
  },
  {
   "cell_type": "code",
   "execution_count": 4,
   "id": "a7f854b5",
   "metadata": {},
   "outputs": [
    {
     "name": "stdout",
     "output_type": "stream",
     "text": [
      "  359.081 μs (4280 allocations: 411.70 KiB)\n"
     ]
    }
   ],
   "source": [
    "@btime W,CW = Lar.hollowCyl()();"
   ]
  },
  {
   "cell_type": "code",
   "execution_count": 11,
   "id": "c82b8011",
   "metadata": {},
   "outputs": [
    {
     "data": {
      "text/plain": [
       "BenchmarkTools.Trial: 10000 samples with 1 evaluation.\n",
       " Range \u001b[90m(\u001b[39m\u001b[36m\u001b[1mmin\u001b[22m\u001b[39m … \u001b[35mmax\u001b[39m\u001b[90m):  \u001b[39m\u001b[36m\u001b[1m357.085 μs\u001b[22m\u001b[39m … \u001b[35m  4.864 ms\u001b[39m  \u001b[90m┊\u001b[39m GC \u001b[90m(\u001b[39mmin … max\u001b[90m): \u001b[39m0.00% … 85.43%\n",
       " Time  \u001b[90m(\u001b[39m\u001b[34m\u001b[1mmedian\u001b[22m\u001b[39m\u001b[90m):     \u001b[39m\u001b[34m\u001b[1m367.430 μs               \u001b[22m\u001b[39m\u001b[90m┊\u001b[39m GC \u001b[90m(\u001b[39mmedian\u001b[90m):    \u001b[39m0.00%\n",
       " Time  \u001b[90m(\u001b[39m\u001b[32m\u001b[1mmean\u001b[22m\u001b[39m ± \u001b[32mσ\u001b[39m\u001b[90m):   \u001b[39m\u001b[32m\u001b[1m410.990 μs\u001b[22m\u001b[39m ± \u001b[32m309.801 μs\u001b[39m  \u001b[90m┊\u001b[39m GC \u001b[90m(\u001b[39mmean ± σ\u001b[90m):  \u001b[39m6.82% ±  8.20%\n",
       "\n",
       "  \u001b[39m▇\u001b[34m█\u001b[39m\u001b[39m▆\u001b[39m▄\u001b[39m▃\u001b[39m▃\u001b[39m▂\u001b[32m▁\u001b[39m\u001b[39m▁\u001b[39m \u001b[39m▁\u001b[39m \u001b[39m \u001b[39m▁\u001b[39m \u001b[39m \u001b[39m \u001b[39m \u001b[39m \u001b[39m \u001b[39m \u001b[39m \u001b[39m \u001b[39m \u001b[39m \u001b[39m \u001b[39m \u001b[39m \u001b[39m \u001b[39m \u001b[39m \u001b[39m \u001b[39m \u001b[39m \u001b[39m \u001b[39m \u001b[39m \u001b[39m \u001b[39m \u001b[39m \u001b[39m \u001b[39m \u001b[39m \u001b[39m \u001b[39m \u001b[39m \u001b[39m \u001b[39m \u001b[39m \u001b[39m \u001b[39m \u001b[39m \u001b[39m \u001b[39m \u001b[39m \u001b[39m \u001b[39m \u001b[39m \u001b[39m \u001b[39m \u001b[39m \u001b[39m \u001b[39m▂\n",
       "  \u001b[39m█\u001b[34m█\u001b[39m\u001b[39m█\u001b[39m█\u001b[39m█\u001b[39m█\u001b[39m█\u001b[32m█\u001b[39m\u001b[39m█\u001b[39m█\u001b[39m█\u001b[39m█\u001b[39m█\u001b[39m█\u001b[39m█\u001b[39m▇\u001b[39m▆\u001b[39m▇\u001b[39m▆\u001b[39m▆\u001b[39m▅\u001b[39m▃\u001b[39m▅\u001b[39m▅\u001b[39m▅\u001b[39m▅\u001b[39m▄\u001b[39m▅\u001b[39m▃\u001b[39m▄\u001b[39m▃\u001b[39m▄\u001b[39m▄\u001b[39m▃\u001b[39m▁\u001b[39m▃\u001b[39m▅\u001b[39m▃\u001b[39m▅\u001b[39m▃\u001b[39m▃\u001b[39m▄\u001b[39m▄\u001b[39m▅\u001b[39m▅\u001b[39m▃\u001b[39m▅\u001b[39m▃\u001b[39m▁\u001b[39m▅\u001b[39m▃\u001b[39m▄\u001b[39m▃\u001b[39m▇\u001b[39m█\u001b[39m▇\u001b[39m▇\u001b[39m▇\u001b[39m▇\u001b[39m▇\u001b[39m▆\u001b[39m \u001b[39m█\n",
       "  357 μs\u001b[90m        \u001b[39m\u001b[90mHistogram: \u001b[39m\u001b[90m\u001b[1mlog(\u001b[22m\u001b[39m\u001b[90mfrequency\u001b[39m\u001b[90m\u001b[1m)\u001b[22m\u001b[39m\u001b[90m by time\u001b[39m        819 μs \u001b[0m\u001b[1m<\u001b[22m\n",
       "\n",
       " Memory estimate\u001b[90m: \u001b[39m\u001b[33m411.70 KiB\u001b[39m, allocs estimate\u001b[90m: \u001b[39m\u001b[33m4280\u001b[39m."
      ]
     },
     "execution_count": 11,
     "metadata": {},
     "output_type": "execute_result"
    }
   ],
   "source": [
    "@benchmark W,CW = Lar.hollowCyl()()"
   ]
  },
  {
   "cell_type": "markdown",
   "id": "bb309d3b",
   "metadata": {},
   "source": [
    "## Uso della macro @threads "
   ]
  },
  {
   "cell_type": "markdown",
   "id": "8a967e1f",
   "metadata": {},
   "source": [
    "#### Per settare il numero di threads pari a 2 ho dovuto per forza eseguire (come scritto nella guida di julia) i seguenti passaggi : export JULIA_NUM_THREADS=2 , set JULIA_NUM_THREADS=2 , il numero di threads va settato in base alla macchina detenuta , se non lo si fa l'uso dei threads è nullo ."
   ]
  },
  {
   "cell_type": "code",
   "execution_count": 4,
   "id": "e9bf392e",
   "metadata": {},
   "outputs": [
    {
     "data": {
      "text/plain": [
       "2"
      ]
     },
     "execution_count": 4,
     "metadata": {},
     "output_type": "execute_result"
    }
   ],
   "source": [
    "using Base.Threads\n",
    "Threads.nthreads() = 2  #setto il numero di threads pari a 2\n",
    "nthreads()"
   ]
  },
  {
   "cell_type": "code",
   "execution_count": 5,
   "id": "88899715",
   "metadata": {},
   "outputs": [
    {
     "data": {
      "text/plain": [
       "hollowCyl1 (generic function with 5 methods)"
      ]
     },
     "execution_count": 5,
     "metadata": {},
     "output_type": "execute_result"
    }
   ],
   "source": [
    "function hollowCyl1(r=1., R=2., height=6., angle=2*pi)\n",
    "    function hollowCyl01(shape=[36, 1, 1])\n",
    "        V, CV = Lar.cuboidGrid(shape)\n",
    "        V = [angle/shape[1] 0 0;0 (R-r)/shape[2] 0;0 0 height/shape[3]]*V\n",
    "        V = broadcast(+, V, [0, r, 0])\n",
    "        n = size(V,2)\n",
    "        W = Array{Array{Float64,1}}(undef, n)\n",
    "        \n",
    "        @inbounds @threads for k=1:n\n",
    "         W[k] = V[:,k]\n",
    "    end\n",
    "        V = hcat(map(p->let(u, v, z)=p;[v*cos(u);v*sin(u);z] end, W)...)\n",
    "        W, CW = Lar.simplifyCells(V, CV)\n",
    "        return W, CW\n",
    "    end\n",
    "    return hollowCyl01\n",
    "end"
   ]
  },
  {
   "cell_type": "code",
   "execution_count": 7,
   "id": "aad37618",
   "metadata": {},
   "outputs": [
    {
     "name": "stdout",
     "output_type": "stream",
     "text": [
      "  304.577 μs (3614 allocations: 345.31 KiB)\n"
     ]
    }
   ],
   "source": [
    "@btime W,CW = hollowCyl1()();"
   ]
  },
  {
   "cell_type": "markdown",
   "id": "2e55a3d2",
   "metadata": {},
   "source": [
    "I tempi di esecuzione sono migliorati ! Ho cercato di utilizzare i threads quindi per farlo ho dovuto \"esternare\" il ciclo for , cosi facendo ho potuto usare la macro @threads . Di fatti i cambiamenti non sono efficienti e spesso meno comprensibili e piu disordinati ma solo in questo modo sono state possibili applicare le macro . Senza l'uso delle macro , con il seguente ciclo for ho notato che la velocità di esecuzione aumenta di molto ( si puo notare nel notebook \"disk\" , nel caso di disk ho deciso di non omettere nessun passaggio e far vedere tutta l'evoluzione del codice stampandone i risultati legati alla velocità di esecuzione . ) Questo messaggio è comune e sarà riportato alla fine di ogni notebook ."
   ]
  }
 ],
 "metadata": {
  "kernelspec": {
   "display_name": "Julia 1.5.2",
   "language": "julia",
   "name": "julia-1.5"
  },
  "language_info": {
   "file_extension": ".jl",
   "mimetype": "application/julia",
   "name": "julia",
   "version": "1.5.2"
  }
 },
 "nbformat": 4,
 "nbformat_minor": 5
}
