{
 "cells": [
  {
   "cell_type": "code",
   "execution_count": 5,
   "id": "17179cef",
   "metadata": {},
   "outputs": [],
   "source": [
    "using DataStructures\n",
    "using LinearAlgebraicRepresentation\n",
    "Lar = LinearAlgebraicRepresentation\n",
    "using BenchmarkTools"
   ]
  },
  {
   "cell_type": "markdown",
   "id": "e6f3c49a",
   "metadata": {},
   "source": [
    "## Funzione DISK()"
   ]
  },
  {
   "cell_type": "code",
   "execution_count": 106,
   "id": "e5f4eef2",
   "metadata": {},
   "outputs": [
    {
     "data": {
      "text/plain": [
       "disk (generic function with 3 methods)"
      ]
     },
     "execution_count": 106,
     "metadata": {},
     "output_type": "execute_result"
    }
   ],
   "source": [
    "function disk(radius=1., angle=2*pi)\n",
    "    function disk0(shape=[36, 2])\n",
    "        V, FV = simplexGrid(shape)\n",
    "        V = [angle/shape[1] 0;0 radius/shape[2]]*V\n",
    "        W = [V[:, k] for k=1:size(V, 2)]\n",
    "        V = hcat(map(p->let(u, v)=p;[v*cos(u);v*sin(u)] end, W)...)\n",
    "        W, FW = simplifyCells(V, FV)\n",
    "        FW = [cell for cell in FW if length(cell)==3]\n",
    "        return W, FW\n",
    "    end\n",
    "    return disk0\n",
    "end"
   ]
  },
  {
   "cell_type": "code",
   "execution_count": 2,
   "id": "f85660dd",
   "metadata": {},
   "outputs": [
    {
     "name": "stdout",
     "output_type": "stream",
     "text": [
      "  354.109 μs (4228 allocations: 389.56 KiB)\n"
     ]
    }
   ],
   "source": [
    "@btime W,CW = Lar.disk()();"
   ]
  },
  {
   "cell_type": "code",
   "execution_count": 5,
   "id": "f1150cc0",
   "metadata": {},
   "outputs": [
    {
     "name": "stdout",
     "output_type": "stream",
     "text": [
      "Variables\n",
      "  #self#\u001b[36m::LinearAlgebraicRepresentation.var\"#disk0#268\"{Float64,Float64}\u001b[39m\n",
      "\n",
      "Body\u001b[91m\u001b[1m::Tuple{Array,Array{Array{Int64,1},1}}\u001b[22m\u001b[39m\n",
      "\u001b[90m1 ─\u001b[39m %1 = Base.vect(36, 2)\u001b[36m::Array{Int64,1}\u001b[39m\n",
      "\u001b[90m│  \u001b[39m %2 = (#self#)(%1)\u001b[91m\u001b[1m::Tuple{Array,Array{Array{Int64,1},1}}\u001b[22m\u001b[39m\n",
      "\u001b[90m└──\u001b[39m      return %2\n"
     ]
    }
   ],
   "source": [
    "@code_warntype Lar.disk()();"
   ]
  },
  {
   "cell_type": "markdown",
   "id": "6c7df645",
   "metadata": {},
   "source": [
    "La funzione NON è type unstable dato che Body::Tuple{Array,Array{Array{Int64,1},1}} ."
   ]
  },
  {
   "cell_type": "code",
   "execution_count": 4,
   "id": "5e3e9263",
   "metadata": {},
   "outputs": [
    {
     "data": {
      "text/plain": [
       "BenchmarkTools.Trial: 10000 samples with 1 evaluation.\n",
       " Range \u001b[90m(\u001b[39m\u001b[36m\u001b[1mmin\u001b[22m\u001b[39m … \u001b[35mmax\u001b[39m\u001b[90m):  \u001b[39m\u001b[36m\u001b[1m353.436 μs\u001b[22m\u001b[39m … \u001b[35m  9.845 ms\u001b[39m  \u001b[90m┊\u001b[39m GC \u001b[90m(\u001b[39mmin … max\u001b[90m): \u001b[39m 0.00% … 92.14%\n",
       " Time  \u001b[90m(\u001b[39m\u001b[34m\u001b[1mmedian\u001b[22m\u001b[39m\u001b[90m):     \u001b[39m\u001b[34m\u001b[1m366.290 μs               \u001b[22m\u001b[39m\u001b[90m┊\u001b[39m GC \u001b[90m(\u001b[39mmedian\u001b[90m):    \u001b[39m 0.00%\n",
       " Time  \u001b[90m(\u001b[39m\u001b[32m\u001b[1mmean\u001b[22m\u001b[39m ± \u001b[32mσ\u001b[39m\u001b[90m):   \u001b[39m\u001b[32m\u001b[1m437.634 μs\u001b[22m\u001b[39m ± \u001b[32m516.218 μs\u001b[39m  \u001b[90m┊\u001b[39m GC \u001b[90m(\u001b[39mmean ± σ\u001b[90m):  \u001b[39m10.65% ±  8.54%\n",
       "\n",
       "  \u001b[39m█\u001b[34m█\u001b[39m\u001b[39m▆\u001b[39m▅\u001b[39m▄\u001b[39m▄\u001b[39m▃\u001b[39m▁\u001b[39m▁\u001b[39m▁\u001b[32m \u001b[39m\u001b[39m \u001b[39m \u001b[39m \u001b[39m \u001b[39m \u001b[39m \u001b[39m \u001b[39m \u001b[39m \u001b[39m \u001b[39m \u001b[39m \u001b[39m \u001b[39m \u001b[39m \u001b[39m \u001b[39m \u001b[39m \u001b[39m \u001b[39m \u001b[39m \u001b[39m \u001b[39m \u001b[39m \u001b[39m \u001b[39m \u001b[39m \u001b[39m \u001b[39m \u001b[39m \u001b[39m \u001b[39m \u001b[39m \u001b[39m \u001b[39m \u001b[39m \u001b[39m \u001b[39m \u001b[39m \u001b[39m \u001b[39m \u001b[39m \u001b[39m \u001b[39m \u001b[39m \u001b[39m \u001b[39m \u001b[39m \u001b[39m \u001b[39m \u001b[39m \u001b[39m▂\n",
       "  \u001b[39m█\u001b[34m█\u001b[39m\u001b[39m█\u001b[39m█\u001b[39m█\u001b[39m█\u001b[39m█\u001b[39m█\u001b[39m█\u001b[39m█\u001b[32m█\u001b[39m\u001b[39m█\u001b[39m▇\u001b[39m▇\u001b[39m▇\u001b[39m▇\u001b[39m▇\u001b[39m▇\u001b[39m▇\u001b[39m▇\u001b[39m▇\u001b[39m▆\u001b[39m▆\u001b[39m▇\u001b[39m▆\u001b[39m▆\u001b[39m▆\u001b[39m▆\u001b[39m▆\u001b[39m▇\u001b[39m▆\u001b[39m▆\u001b[39m▆\u001b[39m▆\u001b[39m▇\u001b[39m▆\u001b[39m▆\u001b[39m▇\u001b[39m▆\u001b[39m▆\u001b[39m▇\u001b[39m▆\u001b[39m▆\u001b[39m▆\u001b[39m▅\u001b[39m▆\u001b[39m█\u001b[39m█\u001b[39m█\u001b[39m▇\u001b[39m▇\u001b[39m▇\u001b[39m▆\u001b[39m▆\u001b[39m▇\u001b[39m▆\u001b[39m▄\u001b[39m▅\u001b[39m▅\u001b[39m▁\u001b[39m▄\u001b[39m \u001b[39m█\n",
       "  353 μs\u001b[90m        \u001b[39m\u001b[90mHistogram: \u001b[39m\u001b[90m\u001b[1mlog(\u001b[22m\u001b[39m\u001b[90mfrequency\u001b[39m\u001b[90m\u001b[1m)\u001b[22m\u001b[39m\u001b[90m by time\u001b[39m        879 μs \u001b[0m\u001b[1m<\u001b[22m\n",
       "\n",
       " Memory estimate\u001b[90m: \u001b[39m\u001b[33m389.50 KiB\u001b[39m, allocs estimate\u001b[90m: \u001b[39m\u001b[33m4226\u001b[39m."
      ]
     },
     "execution_count": 4,
     "metadata": {},
     "output_type": "execute_result"
    }
   ],
   "source": [
    "@benchmark Lar.disk()()"
   ]
  },
  {
   "cell_type": "markdown",
   "id": "22c03cde",
   "metadata": {},
   "source": [
    "## Uso della macro @threads "
   ]
  },
  {
   "cell_type": "markdown",
   "id": "f8d0e6f8",
   "metadata": {},
   "source": [
    "#### Per settare il numero di threads pari a 2 ho dovuto per forza eseguire (come scritto nella guida di julia) i seguenti passaggi :  export JULIA_NUM_THREADS=2  , set JULIA_NUM_THREADS=2 , il numero di threads va settato in base alla macchina detenuta , se non lo si fa l'uso dei threads è nullo ."
   ]
  },
  {
   "cell_type": "code",
   "execution_count": 7,
   "id": "e65207c7",
   "metadata": {},
   "outputs": [
    {
     "data": {
      "text/plain": [
       "2"
      ]
     },
     "execution_count": 7,
     "metadata": {},
     "output_type": "execute_result"
    }
   ],
   "source": [
    "using Base.Threads\n",
    "Threads.nthreads() = 2  #setto il numero di threads pari a 2\n",
    "nthreads()   "
   ]
  },
  {
   "cell_type": "code",
   "execution_count": 10,
   "id": "a380d708",
   "metadata": {},
   "outputs": [
    {
     "data": {
      "text/plain": [
       "simplifyCells (generic function with 1 method)"
      ]
     },
     "execution_count": 10,
     "metadata": {},
     "output_type": "execute_result"
    }
   ],
   "source": [
    "function simplifyCells(V,CV)\n",
    "    PRECISION = 5\n",
    "    vertDict = DefaultDict{Array{Float64,1}, Int64}(0)\n",
    "    index = 0\n",
    "    W = Array{Float64,1}[]\n",
    "    FW = Array{Int64,1}[]\n",
    "    \n",
    "    for incell in CV\n",
    "        outcell = Int64[]\n",
    "        for v in incell\n",
    "         vert = V[:,v]\n",
    "         key = map(approxVal(PRECISION), vert)\n",
    "            if vertDict[key]==0\n",
    "                index += 1\n",
    "                vertDict[key] = index\n",
    "                push!(outcell, index)\n",
    "                push!(W,key)\n",
    "            else\n",
    "                push!(outcell, vertDict[key])\n",
    "            end\n",
    "        end\n",
    "         append!(FW, [[Set(outcell)...]])\n",
    "    end\n",
    "    return hcat(W...),FW\n",
    "end"
   ]
  },
  {
   "cell_type": "code",
   "execution_count": 11,
   "id": "b82ba50a",
   "metadata": {},
   "outputs": [
    {
     "data": {
      "text/plain": [
       "approxVal (generic function with 1 method)"
      ]
     },
     "execution_count": 11,
     "metadata": {},
     "output_type": "execute_result"
    }
   ],
   "source": [
    "function approxVal(PRECISION)\n",
    "    function approxVal0(value)\n",
    "        out = round(value, digits=PRECISION)\n",
    "        if out == -0.0\n",
    "            out = 0.0\n",
    "        end\n",
    "        return out\n",
    "    end\n",
    "    return approxVal0\n",
    "end"
   ]
  },
  {
   "cell_type": "markdown",
   "id": "0b808460",
   "metadata": {},
   "source": [
    "Funzioni di supporto iniziali sempre riportate per far girare i nuovi codici . Passaggio eseguito su tutti i notebook"
   ]
  },
  {
   "cell_type": "markdown",
   "id": "5e6a589e",
   "metadata": {},
   "source": [
    "## Evoluzione del codice tra parallelizzazione e refactoring ."
   ]
  },
  {
   "cell_type": "markdown",
   "id": "ced6d59e",
   "metadata": {},
   "source": [
    "Ho deciso di riportate tutta l'evoluzione del codice e le modifiche fatte nel corso del tempo per capire e confrontare tutti gli aspetti che migliorano o non migliorano il codice in termini di prestazioni , stabilità , velocità esecuzione ecc. "
   ]
  },
  {
   "cell_type": "code",
   "execution_count": 102,
   "id": "3ddb525d",
   "metadata": {},
   "outputs": [
    {
     "name": "stdout",
     "output_type": "stream",
     "text": [
      "  360.564 μs (4334 allocations: 392.91 KiB)\n"
     ]
    }
   ],
   "source": [
    "function disk1(radius=1., angle=2*pi)\n",
    "    function disk01(shape=[36, 2])\n",
    "        V, FV = Lar.simplexGrid(shape)\n",
    "        V = [angle/shape[1] 0;0 radius/shape[2]]*V\n",
    "        \n",
    "        n = size(V,2)\n",
    "        W = Array{Array{Float64,1}}(undef, n)\n",
    "        \n",
    "         for k=1:n\n",
    "         W[k] = V[:,k] \n",
    "    end\n",
    "        \n",
    "        V = hcat(map(p->let(u, v)=p;[v*cos(u);v*sin(u)] end, W)...)\n",
    "        W, FW = simplifyCells(V, FV)\n",
    "        FW = [cell for cell in FW if length(cell)==3]\n",
    "    \n",
    "        return W, FW\n",
    "    end\n",
    "    return disk01\n",
    "end\n",
    "\n",
    "@btime W,CW = disk1()();"
   ]
  },
  {
   "cell_type": "markdown",
   "id": "86849a82",
   "metadata": {},
   "source": [
    "Refactoring e modifica del ciclo for portato esternamente per poter utilizzare di seguito le macro @inbounds e @threads"
   ]
  },
  {
   "cell_type": "code",
   "execution_count": 20,
   "id": "b8cfd51d",
   "metadata": {},
   "outputs": [
    {
     "name": "stdout",
     "output_type": "stream",
     "text": [
      "  269.480 μs (2641 allocations: 237.97 KiB)\n"
     ]
    }
   ],
   "source": [
    "function disk2(radius=1., angle=2*pi)\n",
    "    function disk02(shape=[36, 2])\n",
    "        V, FV = Lar.simplexGrid(shape)\n",
    "        V = [angle/shape[1] 0;0 radius/shape[2]]*V\n",
    "        \n",
    "        n = size(V,2)\n",
    "        W = Array{Array{Float64,1}}(undef, n)\n",
    "        \n",
    "        @inbounds @threads for k=1:n\n",
    "         W[k] = V[:,k] \n",
    "    end\n",
    "        \n",
    "        V = hcat(map(p->let(u, v)=p;[v*cos(u);v*sin(u)] end, W)...)\n",
    "        W, FW = simplifyCells(V, FV)\n",
    "        FW = [cell for cell in FW if length(cell)==3] \n",
    "        return W, FW\n",
    "    end\n",
    "    return disk02\n",
    "end\n",
    "\n",
    "@btime W,CW = disk2()();"
   ]
  },
  {
   "cell_type": "markdown",
   "id": "4aa1ec05",
   "metadata": {},
   "source": [
    "Con aggiunta di threads velocità prestazioni aumentata e numero di allocazioni diminuite rispetto a precedente , ."
   ]
  },
  {
   "cell_type": "code",
   "execution_count": 21,
   "id": "4f975d59",
   "metadata": {},
   "outputs": [
    {
     "name": "stdout",
     "output_type": "stream",
     "text": [
      "  256.254 μs (2520 allocations: 225.47 KiB)\n"
     ]
    }
   ],
   "source": [
    "function disk3(radius=1., angle=2*pi)\n",
    "    function disk03(shape=[36, 2])\n",
    "        V, FV = Lar.simplexGrid(shape)\n",
    "        V = [angle/shape[1] 0;0 radius/shape[2]]*V\n",
    "        \n",
    "        n = size(V,2)\n",
    "        W = Array{Array{Float64,1}}(undef, n)\n",
    "        \n",
    "        @inbounds @threads for k=1:n\n",
    "         W[k] = V[:,k] \n",
    "    end\n",
    "        \n",
    "        V = hcat(map(p->let(u, v)=p;[v*cos(u);v*sin(u)] end, W)...)\n",
    "        W, FW = simplifyCells(V, FV)\n",
    "        filter!(cell -> length(cell)==3,FW)\n",
    "        return W, FW\n",
    "    end\n",
    "    return disk03\n",
    "end\n",
    "\n",
    "@btime W,CW = disk3()();"
   ]
  },
  {
   "cell_type": "markdown",
   "id": "358611ac",
   "metadata": {},
   "source": [
    "Aggiungendo filter! sostituendo la condizione dell'if . Prestazioni aumentate ancora ."
   ]
  }
 ],
 "metadata": {
  "kernelspec": {
   "display_name": "Julia 1.5.2",
   "language": "julia",
   "name": "julia-1.5"
  },
  "language_info": {
   "file_extension": ".jl",
   "mimetype": "application/julia",
   "name": "julia",
   "version": "1.5.2"
  }
 },
 "nbformat": 4,
 "nbformat_minor": 5
}
