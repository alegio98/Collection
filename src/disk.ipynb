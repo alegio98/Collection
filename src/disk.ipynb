{
 "cells": [
  {
   "cell_type": "code",
   "execution_count": 25,
   "id": "17179cef",
   "metadata": {},
   "outputs": [],
   "source": [
    "using DataStructures\n",
    "using LinearAlgebraicRepresentation\n",
    "Lar = LinearAlgebraicRepresentation\n",
    "using BenchmarkTools"
   ]
  },
  {
   "cell_type": "markdown",
   "id": "e6f3c49a",
   "metadata": {},
   "source": [
    "## Funzione DISK()"
   ]
  },
  {
   "cell_type": "code",
   "execution_count": 106,
   "id": "e5f4eef2",
   "metadata": {},
   "outputs": [
    {
     "data": {
      "text/plain": [
       "disk (generic function with 3 methods)"
      ]
     },
     "execution_count": 106,
     "metadata": {},
     "output_type": "execute_result"
    }
   ],
   "source": [
    "function disk(radius=1., angle=2*pi)\n",
    "    function disk0(shape=[36, 2])\n",
    "        V, FV = simplexGrid(shape)\n",
    "        V = [angle/shape[1] 0;0 radius/shape[2]]*V\n",
    "        W = [V[:, k] for k=1:size(V, 2)]\n",
    "        V = hcat(map(p->let(u, v)=p;[v*cos(u);v*sin(u)] end, W)...)\n",
    "        W, FW = simplifyCells(V, FV)\n",
    "        FW = [cell for cell in FW if length(cell)==3]\n",
    "        return W, FW\n",
    "    end\n",
    "    return disk0\n",
    "end"
   ]
  },
  {
   "cell_type": "code",
   "execution_count": 2,
   "id": "f85660dd",
   "metadata": {},
   "outputs": [
    {
     "name": "stdout",
     "output_type": "stream",
     "text": [
      "  354.109 μs (4228 allocations: 389.56 KiB)\n"
     ]
    }
   ],
   "source": [
    "@btime W,CW = Lar.disk()();"
   ]
  },
  {
   "cell_type": "code",
   "execution_count": 5,
   "id": "f1150cc0",
   "metadata": {},
   "outputs": [
    {
     "name": "stdout",
     "output_type": "stream",
     "text": [
      "Variables\n",
      "  #self#\u001b[36m::LinearAlgebraicRepresentation.var\"#disk0#268\"{Float64,Float64}\u001b[39m\n",
      "\n",
      "Body\u001b[91m\u001b[1m::Tuple{Array,Array{Array{Int64,1},1}}\u001b[22m\u001b[39m\n",
      "\u001b[90m1 ─\u001b[39m %1 = Base.vect(36, 2)\u001b[36m::Array{Int64,1}\u001b[39m\n",
      "\u001b[90m│  \u001b[39m %2 = (#self#)(%1)\u001b[91m\u001b[1m::Tuple{Array,Array{Array{Int64,1},1}}\u001b[22m\u001b[39m\n",
      "\u001b[90m└──\u001b[39m      return %2\n"
     ]
    }
   ],
   "source": [
    "@code_warntype Lar.disk()();"
   ]
  },
  {
   "cell_type": "markdown",
   "id": "22c03cde",
   "metadata": {},
   "source": [
    "## Uso della macro @threads "
   ]
  },
  {
   "cell_type": "markdown",
   "id": "f8d0e6f8",
   "metadata": {},
   "source": [
    "#### Per settare il numero di threads pari a 2 ho dovuto per forza eseguire (come scritto nella guida di julia) i seguenti passaggi :  export JULIA_NUM_THREADS=2  , set JULIA_NUM_THREADS=2 , il numero di threads va settato in base alla macchina detenuta , se non lo si fa l'uso dei threads è nullo ."
   ]
  },
  {
   "cell_type": "code",
   "execution_count": 82,
   "id": "e65207c7",
   "metadata": {},
   "outputs": [
    {
     "data": {
      "text/plain": [
       "2"
      ]
     },
     "execution_count": 82,
     "metadata": {},
     "output_type": "execute_result"
    }
   ],
   "source": [
    "using Base.Threads\n",
    "Threads.nthreads() = 2  #setto il numero di threads pari a 2\n",
    "nthreads()   "
   ]
  },
  {
   "cell_type": "code",
   "execution_count": 84,
   "id": "a380d708",
   "metadata": {},
   "outputs": [
    {
     "data": {
      "text/plain": [
       "simplifyCells (generic function with 1 method)"
      ]
     },
     "execution_count": 84,
     "metadata": {},
     "output_type": "execute_result"
    }
   ],
   "source": [
    "function simplifyCells(V,CV)\n",
    "    PRECISION = 5\n",
    "    vertDict = DefaultDict{Array{Float64,1}, Int64}(0)\n",
    "    index = 0\n",
    "    W = Array{Float64,1}[]\n",
    "    FW = Array{Int64,1}[]\n",
    "    \n",
    "    for incell in CV\n",
    "        outcell = Int64[]\n",
    "        for v in incell\n",
    "         vert = V[:,v]\n",
    "         key = map(approxVal(PRECISION), vert)\n",
    "            if vertDict[key]==0\n",
    "                index += 1\n",
    "                vertDict[key] = index\n",
    "                push!(outcell, index)\n",
    "                push!(W,key)\n",
    "            else\n",
    "                push!(outcell, vertDict[key])\n",
    "            end\n",
    "        end\n",
    "         append!(FW, [[Set(outcell)...]])  #posso sostituirlo con push!(FW, [Set(outcell)...])\n",
    "    end\n",
    "    return hcat(W...),FW\n",
    "end"
   ]
  },
  {
   "cell_type": "code",
   "execution_count": 85,
   "id": "b82ba50a",
   "metadata": {},
   "outputs": [
    {
     "data": {
      "text/plain": [
       "approxVal (generic function with 1 method)"
      ]
     },
     "execution_count": 85,
     "metadata": {},
     "output_type": "execute_result"
    }
   ],
   "source": [
    "function approxVal(PRECISION)\n",
    "    function approxVal0(value)\n",
    "        out = round(value, digits=PRECISION)\n",
    "        if out == -0.0\n",
    "            out = 0.0\n",
    "        end\n",
    "        return out\n",
    "    end\n",
    "    return approxVal0\n",
    "end"
   ]
  },
  {
   "cell_type": "markdown",
   "id": "0b808460",
   "metadata": {},
   "source": [
    "Funzioni di supporto iniziali sempre riportate per far girare i nuovi codici . Passaggio eseguito su tutti i notebook"
   ]
  },
  {
   "cell_type": "markdown",
   "id": "5e6a589e",
   "metadata": {},
   "source": [
    "## Evoluzione del codice tra parallelizzazione e refactoring ."
   ]
  },
  {
   "cell_type": "markdown",
   "id": "ced6d59e",
   "metadata": {},
   "source": [
    "Ho deciso di riportate tutta l'evoluzione del codice e le modifiche fatte nel corso del tempo per capire e confrontare tutti gli aspetti che migliorano o non migliorano il codice in termini di prestazioni , stabilità , velocità esecuzione ecc. "
   ]
  },
  {
   "cell_type": "code",
   "execution_count": 102,
   "id": "3ddb525d",
   "metadata": {},
   "outputs": [
    {
     "name": "stdout",
     "output_type": "stream",
     "text": [
      "  360.564 μs (4334 allocations: 392.91 KiB)\n"
     ]
    }
   ],
   "source": [
    "function disk1(radius=1., angle=2*pi)\n",
    "    function disk01(shape=[36, 2])\n",
    "        V, FV = Lar.simplexGrid(shape)\n",
    "        V = [angle/shape[1] 0;0 radius/shape[2]]*V\n",
    "        \n",
    "        n = size(V,2)\n",
    "        W = Array{Array{Float64,1}}(undef, n)\n",
    "        \n",
    "         for k=1:n\n",
    "         W[k] = V[:,k] \n",
    "    end\n",
    "        \n",
    "        V = hcat(map(p->let(u, v)=p;[v*cos(u);v*sin(u)] end, W)...)\n",
    "        W, FW = simplifyCells(V, FV)\n",
    "        FW = [cell for cell in FW if length(cell)==3]\n",
    "    \n",
    "        return W, FW\n",
    "    end\n",
    "    return disk01\n",
    "end\n",
    "\n",
    "@btime W,CW = disk1()();"
   ]
  },
  {
   "cell_type": "markdown",
   "id": "86849a82",
   "metadata": {},
   "source": [
    "Refactoring e modifica del ciclo for portato esternamente per poter utilizzare di seguito le macro @inbounds e @threads"
   ]
  },
  {
   "cell_type": "code",
   "execution_count": 103,
   "id": "b1682c1a",
   "metadata": {},
   "outputs": [
    {
     "name": "stdout",
     "output_type": "stream",
     "text": [
      "  356.196 μs (4227 allocations: 389.53 KiB)\n"
     ]
    }
   ],
   "source": [
    "function disk2(radius=1., angle=2*pi)\n",
    "    function disk02(shape=[36, 2])\n",
    "        V, FV = Lar.simplexGrid(shape)\n",
    "        V = [angle/shape[1] 0;0 radius/shape[2]]*V\n",
    "        \n",
    "        n = size(V,2)\n",
    "        W = Array{Array{Float64,1}}(undef, n)\n",
    "        \n",
    "        @inbounds @threads for k=1:n\n",
    "         W[k] = V[:,k] \n",
    "    end\n",
    "        \n",
    "        V = hcat(map(p->let(u, v)=p;[v*cos(u);v*sin(u)] end, W)...)\n",
    "        W, FW = simplifyCells(V, FV)\n",
    "        FW = [cell for cell in FW if length(cell)==3]\n",
    "    \n",
    "        return W, FW\n",
    "    end\n",
    "    return disk02\n",
    "end\n",
    "\n",
    "@btime W,CW = disk2()();"
   ]
  },
  {
   "cell_type": "markdown",
   "id": "4aa1ec05",
   "metadata": {},
   "source": [
    "Con aggiunta di threads velocità prestazioni aumentata e numero di allocazioni diminuite rispetto a precedente , risultati non molto lontani dalla funzione iniziale ."
   ]
  },
  {
   "cell_type": "code",
   "execution_count": 104,
   "id": "b8cfd51d",
   "metadata": {},
   "outputs": [
    {
     "name": "stdout",
     "output_type": "stream",
     "text": [
      "  354.430 μs (4219 allocations: 387.25 KiB)\n"
     ]
    }
   ],
   "source": [
    "function disk3(radius=1., angle=2*pi)\n",
    "    function disk03(shape=[36, 2])\n",
    "        V, FV = Lar.simplexGrid(shape)\n",
    "        V = [angle/shape[1] 0;0 radius/shape[2]]*V\n",
    "        \n",
    "        n = size(V,2)\n",
    "        W = Array{Array{Float64,1}}(undef, n)\n",
    "        \n",
    "        @inbounds @threads for k=1:n\n",
    "         W[k] = V[:,k] \n",
    "    end\n",
    "        \n",
    "        V = hcat(map(p->let(u, v)=p;[v*cos(u);v*sin(u)] end, W)...)\n",
    "        W, FW = simplifyCells(V, FV)\n",
    "       # FW = [cell for cell in FW if length(cell)==3]\n",
    "        filter!(cell -> length(cell)==3,FW)\n",
    "        return W, FW\n",
    "    end\n",
    "    return disk03\n",
    "end\n",
    "\n",
    "@btime W,CW = disk3()();"
   ]
  },
  {
   "cell_type": "markdown",
   "id": "358611ac",
   "metadata": {},
   "source": [
    "Ultima versione rivistata , aggiunto filter! sostituendo la condizione dell'if . Prestazioni aumentate ancora ."
   ]
  }
 ],
 "metadata": {
  "kernelspec": {
   "display_name": "Julia 1.5.2",
   "language": "julia",
   "name": "julia-1.5"
  },
  "language_info": {
   "file_extension": ".jl",
   "mimetype": "application/julia",
   "name": "julia",
   "version": "1.5.2"
  }
 },
 "nbformat": 4,
 "nbformat_minor": 5
}
