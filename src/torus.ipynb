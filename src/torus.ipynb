{
 "cells": [
  {
   "cell_type": "code",
   "execution_count": 2,
   "id": "ca8886f8",
   "metadata": {},
   "outputs": [],
   "source": [
    "using DataStructures\n",
    "using LinearAlgebraicRepresentation\n",
    "Lar = LinearAlgebraicRepresentation\n",
    "using BenchmarkTools"
   ]
  },
  {
   "cell_type": "markdown",
   "id": "1bb3ed2b",
   "metadata": {},
   "source": [
    "## Funzione TORUS()"
   ]
  },
  {
   "cell_type": "code",
   "execution_count": 3,
   "id": "1f620ffb",
   "metadata": {},
   "outputs": [
    {
     "data": {
      "text/plain": [
       "torus (generic function with 6 methods)"
      ]
     },
     "execution_count": 3,
     "metadata": {},
     "output_type": "execute_result"
    }
   ],
   "source": [
    "function torus(r=1., R=2., h=.5, angle1=2*pi, angle2=2*pi)\n",
    "    function torus0(shape=[24, 36, 4])\n",
    "        V, CV = cuboidGrid(shape)\n",
    "        V = [angle1/shape[1] 0 0;0 angle2/shape[2] 0;0 0 r/shape[3]]*V\n",
    "        V = broadcast(+, V, [0, 0, h])\n",
    "        W = [V[:, k] for k=1:size(V, 2)]\n",
    "        V = hcat(map(p->let(u, v, z)=p;[(R+z*cos(u))*cos(v);(R+z*cos(u))*sin(v);\n",
    "            -z*sin(u)] end, W)...)\n",
    "        W, CW = simplifyCells(V, CV)\n",
    "        return W, CW\n",
    "    end\n",
    "    return torus0\n",
    "end"
   ]
  },
  {
   "cell_type": "code",
   "execution_count": 4,
   "id": "8db2404a",
   "metadata": {},
   "outputs": [
    {
     "name": "stdout",
     "output_type": "stream",
     "text": [
      "  33.610 ms (379606 allocations: 29.70 MiB)\n"
     ]
    }
   ],
   "source": [
    "@btime W,CW = Lar.torus()();"
   ]
  },
  {
   "cell_type": "code",
   "execution_count": 5,
   "id": "c15ad8c0",
   "metadata": {},
   "outputs": [
    {
     "name": "stdout",
     "output_type": "stream",
     "text": [
      "Variables\n",
      "  #self#\u001b[36m::LinearAlgebraicRepresentation.var\"#torus0#328\"{Float64,Float64,Float64,Float64,Float64}\u001b[39m\n",
      "\n",
      "Body\u001b[91m\u001b[1m::Tuple{Array,Array{Array{Int64,1},1}}\u001b[22m\u001b[39m\n",
      "\u001b[90m1 ─\u001b[39m %1 = Base.vect(24, 36, 4)\u001b[36m::Array{Int64,1}\u001b[39m\n",
      "\u001b[90m│  \u001b[39m %2 = (#self#)(%1)\u001b[91m\u001b[1m::Tuple{Array,Array{Array{Int64,1},1}}\u001b[22m\u001b[39m\n",
      "\u001b[90m└──\u001b[39m      return %2\n"
     ]
    }
   ],
   "source": [
    "@code_warntype Lar.torus()();"
   ]
  },
  {
   "cell_type": "markdown",
   "id": "102c9509",
   "metadata": {},
   "source": [
    "La funzione NON è type unstable poichè Body::Tuple{Array,Array{Array{Int64,1},1}} ."
   ]
  },
  {
   "cell_type": "code",
   "execution_count": 3,
   "id": "1ee61dfb",
   "metadata": {},
   "outputs": [
    {
     "data": {
      "text/plain": [
       "BenchmarkTools.Trial: 160 samples with 1 evaluation.\n",
       " Range \u001b[90m(\u001b[39m\u001b[36m\u001b[1mmin\u001b[22m\u001b[39m … \u001b[35mmax\u001b[39m\u001b[90m):  \u001b[39m\u001b[36m\u001b[1m27.761 ms\u001b[22m\u001b[39m … \u001b[35m36.671 ms\u001b[39m  \u001b[90m┊\u001b[39m GC \u001b[90m(\u001b[39mmin … max\u001b[90m): \u001b[39m 0.00% … 10.34%\n",
       " Time  \u001b[90m(\u001b[39m\u001b[34m\u001b[1mmedian\u001b[22m\u001b[39m\u001b[90m):     \u001b[39m\u001b[34m\u001b[1m31.613 ms              \u001b[22m\u001b[39m\u001b[90m┊\u001b[39m GC \u001b[90m(\u001b[39mmedian\u001b[90m):    \u001b[39m10.77%\n",
       " Time  \u001b[90m(\u001b[39m\u001b[32m\u001b[1mmean\u001b[22m\u001b[39m ± \u001b[32mσ\u001b[39m\u001b[90m):   \u001b[39m\u001b[32m\u001b[1m31.281 ms\u001b[22m\u001b[39m ± \u001b[32m 2.237 ms\u001b[39m  \u001b[90m┊\u001b[39m GC \u001b[90m(\u001b[39mmean ± σ\u001b[90m):  \u001b[39m 7.88% ±  5.35%\n",
       "\n",
       "  \u001b[39m▂\u001b[39m▇\u001b[39m▇\u001b[39m▄\u001b[39m \u001b[39m \u001b[39m \u001b[39m \u001b[39m \u001b[39m \u001b[39m \u001b[39m \u001b[39m \u001b[39m \u001b[39m \u001b[39m \u001b[39m \u001b[39m \u001b[39m \u001b[39m \u001b[39m \u001b[39m \u001b[39m \u001b[39m \u001b[39m \u001b[39m \u001b[39m \u001b[32m▂\u001b[39m\u001b[39m█\u001b[34m▅\u001b[39m\u001b[39m \u001b[39m \u001b[39m \u001b[39m \u001b[39m \u001b[39m \u001b[39m \u001b[39m \u001b[39m \u001b[39m \u001b[39m \u001b[39m \u001b[39m \u001b[39m \u001b[39m \u001b[39m▅\u001b[39m \u001b[39m \u001b[39m \u001b[39m \u001b[39m \u001b[39m \u001b[39m \u001b[39m \u001b[39m \u001b[39m \u001b[39m \u001b[39m \u001b[39m \u001b[39m \u001b[39m \n",
       "  \u001b[39m█\u001b[39m█\u001b[39m█\u001b[39m█\u001b[39m▃\u001b[39m▃\u001b[39m▁\u001b[39m▁\u001b[39m▁\u001b[39m▁\u001b[39m▁\u001b[39m▁\u001b[39m▁\u001b[39m▁\u001b[39m▁\u001b[39m▃\u001b[39m▅\u001b[39m▃\u001b[39m▄\u001b[39m▃\u001b[39m▁\u001b[39m▁\u001b[39m▁\u001b[39m▁\u001b[39m▃\u001b[39m▆\u001b[39m▇\u001b[32m█\u001b[39m\u001b[39m█\u001b[34m█\u001b[39m\u001b[39m▇\u001b[39m█\u001b[39m▄\u001b[39m▇\u001b[39m▄\u001b[39m▁\u001b[39m▃\u001b[39m▄\u001b[39m▄\u001b[39m▃\u001b[39m▅\u001b[39m▃\u001b[39m█\u001b[39m▇\u001b[39m█\u001b[39m█\u001b[39m█\u001b[39m▁\u001b[39m▃\u001b[39m▃\u001b[39m▁\u001b[39m▃\u001b[39m▁\u001b[39m▃\u001b[39m▁\u001b[39m▁\u001b[39m▁\u001b[39m▁\u001b[39m▃\u001b[39m \u001b[39m▃\n",
       "  27.8 ms\u001b[90m         Histogram: frequency by time\u001b[39m        35.6 ms \u001b[0m\u001b[1m<\u001b[22m\n",
       "\n",
       " Memory estimate\u001b[90m: \u001b[39m\u001b[33m29.70 MiB\u001b[39m, allocs estimate\u001b[90m: \u001b[39m\u001b[33m379604\u001b[39m."
      ]
     },
     "execution_count": 3,
     "metadata": {},
     "output_type": "execute_result"
    }
   ],
   "source": [
    "@benchmark Lar.torus()()"
   ]
  },
  {
   "cell_type": "markdown",
   "id": "2f98ea49",
   "metadata": {},
   "source": [
    "## Uso della macro @threads "
   ]
  },
  {
   "cell_type": "markdown",
   "id": "4a8eca81",
   "metadata": {},
   "source": [
    "#### Per settare il numero di threads pari a 2 ho dovuto per forza eseguire (come scritto nella guida di julia) i seguenti passaggi :  export JULIA_NUM_THREADS=2  , set JULIA_NUM_THREADS=2 , il numero di threads va settato in base alla macchina detenuta , se non lo si fa l'uso dei threads è nullo ."
   ]
  },
  {
   "cell_type": "code",
   "execution_count": 5,
   "id": "a79d4824",
   "metadata": {},
   "outputs": [
    {
     "data": {
      "text/plain": [
       "2"
      ]
     },
     "execution_count": 5,
     "metadata": {},
     "output_type": "execute_result"
    }
   ],
   "source": [
    "using Base.Threads\n",
    "Threads.nthreads() = 2  #setto il numero di threads pari a 2\n",
    "nthreads()   "
   ]
  },
  {
   "cell_type": "code",
   "execution_count": 6,
   "id": "6df821d3",
   "metadata": {},
   "outputs": [
    {
     "data": {
      "text/plain": [
       "simplifyCellsRef (generic function with 1 method)"
      ]
     },
     "execution_count": 6,
     "metadata": {},
     "output_type": "execute_result"
    }
   ],
   "source": [
    "function simplifyCellsRef(V,CV)\n",
    "    PRECISION = 5\n",
    "    vertDict = DefaultDict{Array{Float64,1}, Int64}(0)\n",
    "    index = 0\n",
    "    W = Array{Float64,1}[]\n",
    "    FW = Array{Int64,1}[]\n",
    "    \n",
    "    for incell in CV\n",
    "        outcell = Int64[]\n",
    "        for v in incell\n",
    "         vert = V[:,v]\n",
    "         key = map(approxVal(PRECISION), vert)\n",
    "            if vertDict[key]==0\n",
    "                index += 1\n",
    "                vertDict[key] = index\n",
    "                push!(outcell, index)\n",
    "                push!(W,key)\n",
    "            else\n",
    "                push!(outcell, vertDict[key])\n",
    "            end\n",
    "        end\n",
    "         push!(FW, [Set(outcell)...])\n",
    "    end\n",
    "    return hcat(W...),FW\n",
    "end"
   ]
  },
  {
   "cell_type": "code",
   "execution_count": 7,
   "id": "1d277ecb",
   "metadata": {},
   "outputs": [
    {
     "data": {
      "text/plain": [
       "approxVal (generic function with 1 method)"
      ]
     },
     "execution_count": 7,
     "metadata": {},
     "output_type": "execute_result"
    }
   ],
   "source": [
    "function approxVal(PRECISION)\n",
    "    function approxVal0(value)\n",
    "        out = round(value, digits=PRECISION)\n",
    "        if out == -0.0\n",
    "            out = 0.0\n",
    "        end\n",
    "        return out\n",
    "    end\n",
    "    return approxVal0\n",
    "end"
   ]
  },
  {
   "cell_type": "code",
   "execution_count": 22,
   "id": "23acd3d0",
   "metadata": {},
   "outputs": [
    {
     "name": "stdout",
     "output_type": "stream",
     "text": [
      "  27.679 ms (380264 allocations: 29.45 MiB)\n"
     ]
    }
   ],
   "source": [
    " function torus1(r=1., R=2., h=.5, angle1=2*pi, angle2=2*pi)\n",
    "    function torus01(shape=[24, 36, 4])\n",
    "        V, CV = Lar.cuboidGrid(shape)\n",
    "        V = [angle1/shape[1] 0 0;0 angle2/shape[2] 0;0 0 r/shape[3]]*V\n",
    "        V = broadcast(+, V, [0, 0, h])\n",
    "      \n",
    "        n = size(V,2)\n",
    "        W = Array{Array{Float64,1}}(undef, n)\n",
    "        \n",
    "        @inbounds @threads for k=1:n\n",
    "         W[k] = V[:,k] \n",
    "    end\n",
    "        V = hcat(map(p->let(u, v, z)=p;[(R+z*cos(u))*cos(v);(R+z*cos(u))*sin(v);\n",
    "            -z*sin(u)] end, W)...)\n",
    "        W, CW = simplifyCellsRef(V, CV)\n",
    "        return W, CW\n",
    "    end\n",
    "    return torus01\n",
    "end\n",
    "\n",
    "@btime W,CW = torus1()();"
   ]
  },
  {
   "cell_type": "markdown",
   "id": "895391dd",
   "metadata": {},
   "source": [
    "Prestazioni migliorate . Ho usato le funzioni di supporto per poter poi modificare e interagire con la mia versione della funzione torus , ho cercato di utilizzare i threads quindi per farlo ho dovuto \"esternare\" il ciclo for , cosi facendo ho potuto usare la macro @threads . Di fatti i cambiamenti non sono efficienti e spesso meno comprensibili e piu disordinati ma solo in questo modo sono state possibili applicare le macro . Senza l'uso delle macro , con il seguente ciclo for ho notato che la velocità di esecuzione aumenta di molto ( si puo notare nel notebook \"disk\" , nel caso di disk ho deciso di non omettere nessun passaggio e far vedere tutta l'evoluzione del codice stampandone i risultati legati alla velocità di esecuzione . ) Questo messaggio è comune e sarà riportato alla fine di ogni notebook ."
   ]
  }
 ],
 "metadata": {
  "kernelspec": {
   "display_name": "Julia 1.5.2",
   "language": "julia",
   "name": "julia-1.5"
  },
  "language_info": {
   "file_extension": ".jl",
   "mimetype": "application/julia",
   "name": "julia",
   "version": "1.5.2"
  }
 },
 "nbformat": 4,
 "nbformat_minor": 5
}
