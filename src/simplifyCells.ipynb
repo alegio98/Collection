{
 "cells": [
  {
   "cell_type": "code",
   "execution_count": 26,
   "id": "20e070de",
   "metadata": {},
   "outputs": [],
   "source": [
    "using DataStructures\n",
    "using LinearAlgebraicRepresentation\n",
    "Lar = LinearAlgebraicRepresentation\n",
    "using ViewerGL\n",
    "GL = ViewerGL\n",
    "using BenchmarkTools\n",
    "using LinearAlgebra"
   ]
  },
  {
   "cell_type": "markdown",
   "id": "eeda3eb0",
   "metadata": {},
   "source": [
    "## FUNZIONE DA OTTIMIZZARE"
   ]
  },
  {
   "cell_type": "code",
   "execution_count": 27,
   "id": "ad1c4348",
   "metadata": {},
   "outputs": [
    {
     "data": {
      "text/plain": [
       "simplifyCells (generic function with 1 method)"
      ]
     },
     "execution_count": 27,
     "metadata": {},
     "output_type": "execute_result"
    }
   ],
   "source": [
    "function simplifyCells(V,CV)\n",
    "    PRECISION = 5\n",
    "    vertDict = DefaultDict{Array{Float64,1}, Int64}(0)\n",
    "    index = 0\n",
    "    W = Array{Float64,1}[]\n",
    "    FW = Array{Int64,1}[]\n",
    "    \n",
    "    for incell in CV\n",
    "        outcell = Int64[]\n",
    "        for v in incell\n",
    "         vert = V[:,v]\n",
    "         key = map(approxVal(PRECISION), vert)\n",
    "            if vertDict[key]==0\n",
    "                index += 1\n",
    "                vertDict[key] = index\n",
    "                push!(outcell, index)\n",
    "                push!(W,key)\n",
    "            else\n",
    "                push!(outcell, vertDict[key])\n",
    "            end\n",
    "        end\n",
    "         append!(FW, [[Set(outcell)...]])  #posso sostituirlo con push!(FW, [Set(outcell)...])\n",
    "    end\n",
    "    return hcat(W...),FW\n",
    "end"
   ]
  },
  {
   "cell_type": "markdown",
   "id": "febbd044",
   "metadata": {},
   "source": [
    "#### Funzione di supporto a simplifyCells"
   ]
  },
  {
   "cell_type": "code",
   "execution_count": 28,
   "id": "4d983900",
   "metadata": {},
   "outputs": [
    {
     "data": {
      "text/plain": [
       "approxVal (generic function with 1 method)"
      ]
     },
     "execution_count": 28,
     "metadata": {},
     "output_type": "execute_result"
    }
   ],
   "source": [
    "function approxVal(PRECISION)\n",
    "    function approxVal0(value)\n",
    "        out = round(value, digits=PRECISION)\n",
    "        if out == -0.0\n",
    "            out = 0.0\n",
    "        end\n",
    "        return out\n",
    "    end\n",
    "    return approxVal0\n",
    "end"
   ]
  },
  {
   "cell_type": "markdown",
   "id": "111e1eb6",
   "metadata": {},
   "source": [
    "-----------------------------------------------------------------------------------------------------------"
   ]
  },
  {
   "cell_type": "markdown",
   "id": "c9afe120",
   "metadata": {},
   "source": [
    "### Dati sottostanti utilizzati per test !!!"
   ]
  },
  {
   "cell_type": "code",
   "execution_count": 29,
   "id": "0db5f2aa",
   "metadata": {},
   "outputs": [
    {
     "data": {
      "text/plain": [
       "([1.0 2.12346 7.0 3.0; 1.0 2.12346 7.0 3.0], [[1], [2], [3], [4], [1]])"
      ]
     },
     "execution_count": 29,
     "metadata": {},
     "output_type": "execute_result"
    }
   ],
   "source": [
    "#devo capire bene cosa faccia simplifyCells per poterla ottimizzare e testare  . \n",
    "\n",
    "A=[1.0 2.1234567 3.0 4.0 5.0 6.0 7.0; 1.0 2.1234567 3.0 4.0 5.0 6.0 7.0]\n",
    "B=[1,2,7,3,1]\n",
    "simplifyCells(A,B)"
   ]
  },
  {
   "cell_type": "markdown",
   "id": "56994cb3",
   "metadata": {},
   "source": [
    "Ho fatto una piccola stampa per capire cosa facesse la funzione simplifyCells , e ne deduco che appunto trova e rimuove le celle duplicate o quelle che contengono errori settando una PRECISION = 5 come posso vedere verranno prese in considerazione solamente 5 valori dopo il . , e come possiamo ancora vedere NON vengono prese in considerazione piu celle con lo stesso valore , ma riportata solamente una ."
   ]
  },
  {
   "cell_type": "markdown",
   "id": "7a72bd6f",
   "metadata": {},
   "source": [
    "### Dati di input"
   ]
  },
  {
   "cell_type": "code",
   "execution_count": 30,
   "id": "2b8b2c0b",
   "metadata": {},
   "outputs": [
    {
     "data": {
      "text/plain": [
       "75-element Array{Array{Int64,1},1}:\n",
       " [1]\n",
       " [2]\n",
       " [3]\n",
       " [4]\n",
       " [5]\n",
       " [6]\n",
       " [7]\n",
       " [8]\n",
       " [9]\n",
       " [10]\n",
       " [11]\n",
       " [12]\n",
       " [13]\n",
       " ⋮\n",
       " [127]\n",
       " [111]\n",
       " [2]\n",
       " [2]\n",
       " [67]\n",
       " [20]\n",
       " [12]\n",
       " [66]\n",
       " [67]\n",
       " [25]\n",
       " [3]\n",
       " [62]"
      ]
     },
     "execution_count": 30,
     "metadata": {},
     "output_type": "execute_result"
    }
   ],
   "source": [
    "V = [1.0 2.0 3.0 4.0 5.0 6.0 7.0 8.0 9.0 10.0 11.0 12.0 13.0 14.0 15.0 16.0 17.0 18.0 19.0 20.0 21.0 22.0 23.0 24.0 25.0 26.0 27.0 28.0 29.0 30.0 31.0 32.0 33.0 34.0 35.0 36.0 37.0 38.0 39.0 40.0 41.0 42.0 43.0 44.0 45.0 46.0 47.0 48.0 49.0 50.0 51.0 52.0 53.0 54.0 55.0 56.0 57.0 58.0 59.0 60.0 61.0 62.0 63.0 64.0 65.0 66.0 67.0 68.0 69.0 70.0 71.0 72.0 73.0 74.0 75.0 76.0 77.0 78.0 79.0 80.0 81.0 82.0 83.0 84.0 85.0 86.0 87.0 88.0 89.0 90.0 91.0 92.0 93.0 94.0 95.0 96.0 97.0 98.0 99.0 100.0 101.0 102.0 103.0 104.0 105.0 106.0 107.0 108.0 109.0 110.0 111.0 112.0 113.0 114.0 115.0 116.0 117.0 118.0 119.0 120.0 121.0 122.0 123.0 124.0 125.0 126.0 127.0 128.0 129.0;\n",
    "     1.0 2.0 3.0 4.0 5.0 6.0 7.0 8.0 9.0 10.0 11.0 12.0 13.0 14.0 15.0 16.0 17.0 18.0 19.0 20.0 21.0 22.0 23.0 24.0 25.0 26.0 27.0 28.0 29.0 30.0 31.0 32.0 33.0 34.0 35.0 36.0 37.0 38.0 39.0 40.0 41.0 42.0 43.0 44.0 45.0 46.0 47.0 48.0 49.0 50.0 51.0 52.0 53.0 54.0 55.0 56.0 57.0 58.0 59.0 60.0 61.0 62.0 63.0 64.0 65.0 66.0 67.0 68.0 69.0 70.0 71.0 72.0 73.0 74.0 75.0 76.0 77.0 78.0 79.0 80.0 81.0 82.0 83.0 84.0 85.0 86.0 87.0 88.0 89.0 90.0 91.0 92.0 93.0 94.0 95.0 96.0 97.0 98.0 99.0 100.0 101.0 102.0 103.0 104.0 105.0 106.0 107.0 108.0 109.0 110.0 111.0 112.0 113.0 114.0 115.0 116.0 117.0 118.0 119.0 120.0 121.0 122.0 123.0 124.0 125.0 126.0 127.0 128.0 129.0]\n",
    "\n",
    "CV = [[1],[2],[3],[4],[5],[6],[7],[8],[9],[10],[11],[12],[13],[14],[15],[16],[17],[18],[19],[20],[21],[22],[23],[24],[25],[26],[27],[28],[29],[30],[31],[32],[33],[34],[35],[36],[37],[38],[39],[40],[41],[42],[43],[44],[45],[46],[47],[48],[49],[50],[51],[52],[53],[54],[55],[56],[57],[58],[59],[60],[13],[1],[129],[127],[111],[2],[2],[67],[20],[12],[66],[67],[25],[3],[62]]\n",
    "\n",
    "#CV = [[1,2],[3,4],[5,6],[7,8],[9,10],[11,12],[13,14],[15,16],[17,18],[19,20],[21,22],[23,24],[25,26],[27,28],[29,30],[31,32],[33,34],[35,36],[37,38],[39,40],[41,42],[43,44],[45,46],[47,48],[49,50],[51,52],[53,54],[55,56],[57,58],[59,60],[61,62],[63,64],[65,66],[67,68],[69,70],[71,72],[73,74],[75,76],[77,78],[79,80],[81,82],[83,84],[85,86],[87,88],[89,90],[91,92],[93,94],[95,96],[97,98],[99,100],[101,102],[103,104],[105,106],[107,108],[109,110],[111,112],[113,114],[115,116],[117,118],[119,120]]"
   ]
  },
  {
   "cell_type": "markdown",
   "id": "08fe7b9e",
   "metadata": {},
   "source": [
    "## Benchmark funzione originaria "
   ]
  },
  {
   "cell_type": "code",
   "execution_count": 31,
   "id": "7fce436a",
   "metadata": {},
   "outputs": [
    {
     "name": "stdout",
     "output_type": "stream",
     "text": [
      "  65.531 μs (930 allocations: 88.97 KiB)\n"
     ]
    },
    {
     "data": {
      "text/plain": [
       "([1.0 2.0 … 66.0 62.0; 1.0 2.0 … 66.0 62.0], [[1], [2], [3], [4], [5], [6], [7], [8], [9], [10]  …  [2], [2], [64], [20], [12], [65], [64], [25], [3], [66]])"
      ]
     },
     "execution_count": 31,
     "metadata": {},
     "output_type": "execute_result"
    }
   ],
   "source": [
    "@btime simplifyCells(V,CV)"
   ]
  },
  {
   "cell_type": "markdown",
   "id": "d179cfb4",
   "metadata": {},
   "source": [
    "-----------------------------------------------------------------------------------------------------------------"
   ]
  },
  {
   "cell_type": "markdown",
   "id": "60d02752",
   "metadata": {},
   "source": [
    "## Controllo type unstable"
   ]
  },
  {
   "cell_type": "code",
   "execution_count": 59,
   "id": "86b95a10",
   "metadata": {},
   "outputs": [
    {
     "name": "stdout",
     "output_type": "stream",
     "text": [
      "Variables\n",
      "  #self#\u001b[36m::Core.Compiler.Const(simplifyCells, false)\u001b[39m\n",
      "  V\u001b[36m::Array{Float64,2}\u001b[39m\n",
      "  CV\u001b[36m::Array{Array{Int64,1},1}\u001b[39m\n",
      "  PRECISION\u001b[36m::Int64\u001b[39m\n",
      "  vertDict\u001b[36m::DefaultDict{Array{Float64,1},Int64,Int64}\u001b[39m\n",
      "  index\u001b[36m::Int64\u001b[39m\n",
      "  W\u001b[36m::Array{Array{Float64,1},1}\u001b[39m\n",
      "  FW\u001b[36m::Array{Array{Int64,1},1}\u001b[39m\n",
      "  @_9\u001b[33m\u001b[1m::Union{Nothing, Tuple{Array{Int64,1},Int64}}\u001b[22m\u001b[39m\n",
      "  incell\u001b[36m::Array{Int64,1}\u001b[39m\n",
      "  outcell\u001b[36m::Array{Int64,1}\u001b[39m\n",
      "  @_12\u001b[33m\u001b[1m::Union{Nothing, Tuple{Int64,Int64}}\u001b[22m\u001b[39m\n",
      "  v\u001b[36m::Int64\u001b[39m\n",
      "  vert\u001b[36m::Array{Float64,1}\u001b[39m\n",
      "  key\u001b[36m::Array{Float64,1}\u001b[39m\n",
      "\n",
      "Body\u001b[91m\u001b[1m::Tuple{Array,Array{Array{Int64,1},1}}\u001b[22m\u001b[39m\n",
      "\u001b[90m1 ──\u001b[39m       (PRECISION = 5)\n",
      "\u001b[90m│   \u001b[39m %2  = Core.apply_type(Main.Array, Main.Float64, 1)\u001b[36m::Core.Compiler.Const(Array{Float64,1}, false)\u001b[39m\n",
      "\u001b[90m│   \u001b[39m %3  = Core.apply_type(Main.DefaultDict, %2, Main.Int64)\u001b[36m::Core.Compiler.Const(DefaultDict{Array{Float64,1},Int64,F} where F, false)\u001b[39m\n",
      "\u001b[90m│   \u001b[39m       (vertDict = (%3)(0))\n",
      "\u001b[90m│   \u001b[39m       (index = 0)\n",
      "\u001b[90m│   \u001b[39m %6  = Core.apply_type(Main.Array, Main.Float64, 1)\u001b[36m::Core.Compiler.Const(Array{Float64,1}, false)\u001b[39m\n",
      "\u001b[90m│   \u001b[39m       (W = Base.getindex(%6))\n",
      "\u001b[90m│   \u001b[39m %8  = Core.apply_type(Main.Array, Main.Int64, 1)\u001b[36m::Core.Compiler.Const(Array{Int64,1}, false)\u001b[39m\n",
      "\u001b[90m│   \u001b[39m       (FW = Base.getindex(%8))\n",
      "\u001b[90m│   \u001b[39m %10 = CV\u001b[36m::Array{Array{Int64,1},1}\u001b[39m\n",
      "\u001b[90m│   \u001b[39m       (@_9 = Base.iterate(%10))\n",
      "\u001b[90m│   \u001b[39m %12 = (@_9 === nothing)\u001b[36m::Bool\u001b[39m\n",
      "\u001b[90m│   \u001b[39m %13 = Base.not_int(%12)\u001b[36m::Bool\u001b[39m\n",
      "\u001b[90m└───\u001b[39m       goto #10 if not %13\n",
      "\u001b[90m2 ┄─\u001b[39m %15 = @_9::Tuple{Array{Int64,1},Int64}\u001b[36m::Tuple{Array{Int64,1},Int64}\u001b[39m\n",
      "\u001b[90m│   \u001b[39m       (incell = Core.getfield(%15, 1))\n",
      "\u001b[90m│   \u001b[39m %17 = Core.getfield(%15, 2)\u001b[36m::Int64\u001b[39m\n",
      "\u001b[90m│   \u001b[39m       (outcell = Base.getindex(Main.Int64))\n",
      "\u001b[90m│   \u001b[39m %19 = incell\u001b[36m::Array{Int64,1}\u001b[39m\n",
      "\u001b[90m│   \u001b[39m       (@_12 = Base.iterate(%19))\n",
      "\u001b[90m│   \u001b[39m %21 = (@_12 === nothing)\u001b[36m::Bool\u001b[39m\n",
      "\u001b[90m│   \u001b[39m %22 = Base.not_int(%21)\u001b[36m::Bool\u001b[39m\n",
      "\u001b[90m└───\u001b[39m       goto #8 if not %22\n",
      "\u001b[90m3 ┄─\u001b[39m %24 = @_12::Tuple{Int64,Int64}\u001b[36m::Tuple{Int64,Int64}\u001b[39m\n",
      "\u001b[90m│   \u001b[39m       (v = Core.getfield(%24, 1))\n",
      "\u001b[90m│   \u001b[39m %26 = Core.getfield(%24, 2)\u001b[36m::Int64\u001b[39m\n",
      "\u001b[90m│   \u001b[39m       (vert = Base.getindex(V, Main.:(:), v))\n",
      "\u001b[90m│   \u001b[39m %28 = Main.approxVal(PRECISION::Core.Compiler.Const(5, false))\u001b[36m::Core.Compiler.Const(var\"#approxVal0#1\"{Int64}(5), false)\u001b[39m\n",
      "\u001b[90m│   \u001b[39m       (key = Main.map(%28, vert))\n",
      "\u001b[90m│   \u001b[39m %30 = Base.getindex(vertDict::Core.Compiler.PartialStruct(DefaultDict{Array{Float64,1},Int64,Int64}, Any[Core.Compiler.PartialStruct(DataStructures.DefaultDictBase{Array{Float64,1},Int64,Int64,Dict{Array{Float64,1},Int64}}, Any[Core.Compiler.Const(0, false), Dict{Array{Float64,1},Int64}, Core.Compiler.Const(false, false)])]), key)\u001b[36m::Int64\u001b[39m\n",
      "\u001b[90m│   \u001b[39m %31 = (%30 == 0)\u001b[36m::Bool\u001b[39m\n",
      "\u001b[90m└───\u001b[39m       goto #5 if not %31\n",
      "\u001b[90m4 ──\u001b[39m       (index = index + 1)\n",
      "\u001b[90m│   \u001b[39m       Base.setindex!(vertDict::Core.Compiler.PartialStruct(DefaultDict{Array{Float64,1},Int64,Int64}, Any[Core.Compiler.PartialStruct(DataStructures.DefaultDictBase{Array{Float64,1},Int64,Int64,Dict{Array{Float64,1},Int64}}, Any[Core.Compiler.Const(0, false), Dict{Array{Float64,1},Int64}, Core.Compiler.Const(false, false)])]), index, key)\n",
      "\u001b[90m│   \u001b[39m       Main.push!(outcell, index)\n",
      "\u001b[90m│   \u001b[39m       Main.push!(W, key)\n",
      "\u001b[90m└───\u001b[39m       goto #6\n",
      "\u001b[90m5 ──\u001b[39m %38 = outcell\u001b[36m::Array{Int64,1}\u001b[39m\n",
      "\u001b[90m│   \u001b[39m %39 = Base.getindex(vertDict::Core.Compiler.PartialStruct(DefaultDict{Array{Float64,1},Int64,Int64}, Any[Core.Compiler.PartialStruct(DataStructures.DefaultDictBase{Array{Float64,1},Int64,Int64,Dict{Array{Float64,1},Int64}}, Any[Core.Compiler.Const(0, false), Dict{Array{Float64,1},Int64}, Core.Compiler.Const(false, false)])]), key)\u001b[36m::Int64\u001b[39m\n",
      "\u001b[90m└───\u001b[39m       Main.push!(%38, %39)\n",
      "\u001b[90m6 ┄─\u001b[39m       (@_12 = Base.iterate(%19, %26))\n",
      "\u001b[90m│   \u001b[39m %42 = (@_12 === nothing)\u001b[36m::Bool\u001b[39m\n",
      "\u001b[90m│   \u001b[39m %43 = Base.not_int(%42)\u001b[36m::Bool\u001b[39m\n",
      "\u001b[90m└───\u001b[39m       goto #8 if not %43\n",
      "\u001b[90m7 ──\u001b[39m       goto #3\n",
      "\u001b[90m8 ┄─\u001b[39m %46 = FW\u001b[36m::Array{Array{Int64,1},1}\u001b[39m\n",
      "\u001b[90m│   \u001b[39m %47 = Main.Set(outcell)\u001b[36m::Set{Int64}\u001b[39m\n",
      "\u001b[90m│   \u001b[39m %48 = Core._apply_iterate(Base.iterate, Base.vect, %47)\u001b[91m\u001b[1m::Union{Array{Any,1}, Array{Int64,1}}\u001b[22m\u001b[39m\n",
      "\u001b[90m│   \u001b[39m %49 = Base.vect(%48)\u001b[91m\u001b[1m::Union{Array{Array{Any,1},1}, Array{Array{Int64,1},1}}\u001b[22m\u001b[39m\n",
      "\u001b[90m│   \u001b[39m       Main.append!(%46, %49)\n",
      "\u001b[90m│   \u001b[39m       (@_9 = Base.iterate(%10, %17))\n",
      "\u001b[90m│   \u001b[39m %52 = (@_9 === nothing)\u001b[36m::Bool\u001b[39m\n",
      "\u001b[90m│   \u001b[39m %53 = Base.not_int(%52)\u001b[36m::Bool\u001b[39m\n",
      "\u001b[90m└───\u001b[39m       goto #10 if not %53\n",
      "\u001b[90m9 ──\u001b[39m       goto #2\n",
      "\u001b[90m10 ┄\u001b[39m %56 = Core._apply_iterate(Base.iterate, Main.hcat, W)\u001b[91m\u001b[1m::Array\u001b[22m\u001b[39m\n",
      "\u001b[90m│   \u001b[39m %57 = Core.tuple(%56, FW)\u001b[91m\u001b[1m::Tuple{Array,Array{Array{Int64,1},1}}\u001b[22m\u001b[39m\n",
      "\u001b[90m└───\u001b[39m       return %57\n"
     ]
    }
   ],
   "source": [
    "@code_warntype simplifyCells(V,CV)"
   ]
  },
  {
   "cell_type": "markdown",
   "id": "0a97647a",
   "metadata": {},
   "source": [
    "Come possiamo vedere dall'output la funzione NON è di tipo unstable , possiamo notarlo grazie alla seguente riga : Body::Tuple{Array,Array{Array{Int64,1},1}} "
   ]
  },
  {
   "cell_type": "markdown",
   "id": "9b32099c",
   "metadata": {},
   "source": [
    "### Ottimizzazione con macro @inbounds "
   ]
  },
  {
   "cell_type": "markdown",
   "id": "b4127e3f",
   "metadata": {},
   "source": [
    "Possiamo notare un leggerissimo miglioramento con la macro @inbounds che dice a Julia di saltare il controllo dei limiti di array nei cicli for .. ho provato ad aggiungerelo anche nel secondo for ma le prestazioni peggioravano , ed inoltre ho utilizzato anche la macro @simd ma non ha portato nessun beneficio ."
   ]
  },
  {
   "cell_type": "code",
   "execution_count": 22,
   "id": "1ede7ae7",
   "metadata": {},
   "outputs": [
    {
     "data": {
      "text/plain": [
       "simplifyCellsDUE (generic function with 1 method)"
      ]
     },
     "execution_count": 22,
     "metadata": {},
     "output_type": "execute_result"
    }
   ],
   "source": [
    " function simplifyCellsDUE(V,CV)\n",
    "    PRECISION = 5\n",
    "    vertDict = DefaultDict{Array{Float64,1}, Int64}(0)\n",
    "    index = 0\n",
    "    W = Array{Float64,1}[]\n",
    "    FW = Array{Int64,1}[]\n",
    "     \n",
    "     @inbounds for incell in CV\n",
    "       outcell = Int64[]\n",
    "          for v in incell\n",
    "           vert = V[:,v]\n",
    "            key = map(approxVal(PRECISION), vert)\n",
    "                if vertDict[key]==0\n",
    "                 index += 1\n",
    "                 @inbounds vertDict[key] = index\n",
    "                push!(outcell, index)\n",
    "                push!(W,key)\n",
    "            else\n",
    "                push!(outcell, vertDict[key])\n",
    "            end\n",
    "        end\n",
    "        append!(FW, [[Set(outcell)...]]) \n",
    "    end\n",
    "     return hcat(W...),FW\n",
    "end"
   ]
  },
  {
   "cell_type": "code",
   "execution_count": 23,
   "id": "d32a2c46",
   "metadata": {},
   "outputs": [
    {
     "name": "stdout",
     "output_type": "stream",
     "text": [
      "  66.022 μs (930 allocations: 88.97 KiB)\n"
     ]
    },
    {
     "data": {
      "text/plain": [
       "([1.0 2.0 … 66.0 62.0; 1.0 2.0 … 66.0 62.0], [[1], [2], [3], [4], [5], [6], [7], [8], [9], [10]  …  [2], [2], [64], [20], [12], [65], [64], [25], [3], [66]])"
      ]
     },
     "execution_count": 23,
     "metadata": {},
     "output_type": "execute_result"
    }
   ],
   "source": [
    "@btime simplifyCellsDUE(V,CV)"
   ]
  },
  {
   "cell_type": "markdown",
   "id": "7aa39dcb",
   "metadata": {},
   "source": [
    "---------------------------------------------------------------------------------------------------------------"
   ]
  },
  {
   "cell_type": "markdown",
   "id": "9c976189",
   "metadata": {},
   "source": [
    "## Uso della macro @threads "
   ]
  },
  {
   "cell_type": "markdown",
   "id": "179877d1",
   "metadata": {},
   "source": [
    "#### Per settare il numero di threads pari a 2 ho dovuto per forza eseguire (come scritto nella guida di julia) i seguenti passaggi :  export JULIA_NUM_THREADS=2  , set JULIA_NUM_THREADS=2 , il numero di threads va settato in base alla macchina detenuta , se non lo si fa l'uso dei threads è nullo ."
   ]
  },
  {
   "cell_type": "markdown",
   "id": "e540f8df",
   "metadata": {},
   "source": [
    "Procedura utilizzata per applicare la macro @threads : \n",
    "\n",
    "1) Importare libreria e definito numero di threads concorrenziali. Ho settato il numero di core della mia macchina attraverso Julia.\n",
    "2) Individuo il ciclo for che ha più elementi su cui iterare. \n",
    "3) Individuare quali operazioni di scrittura o lettura le istruzioni dentro il ciclo for compiono rispetto a variabili esterne al ciclo for , se sono solo di lettura posso parallelizzare , se invece il for scrive su delle variabili esterne ad esso dovrò fare in modo che i vari thread siano sicuri al 100% di non scrivere per sbaglio sopra spazi di memoria appena scritti da altri thread concorrenziali prima di parallelizzare.\n"
   ]
  },
  {
   "cell_type": "code",
   "execution_count": 9,
   "id": "d625a332",
   "metadata": {},
   "outputs": [],
   "source": [
    "using Base.Threads\n",
    "Threads.nthreads() = 2  #setto il numero di threads pari a 2"
   ]
  },
  {
   "cell_type": "code",
   "execution_count": 10,
   "id": "29fd81c1",
   "metadata": {},
   "outputs": [
    {
     "data": {
      "text/plain": [
       "2"
      ]
     },
     "execution_count": 10,
     "metadata": {},
     "output_type": "execute_result"
    }
   ],
   "source": [
    "nthreads()"
   ]
  },
  {
   "cell_type": "code",
   "execution_count": 13,
   "id": "895cb3aa",
   "metadata": {},
   "outputs": [
    {
     "data": {
      "text/plain": [
       "simplifyCellsThreads (generic function with 1 method)"
      ]
     },
     "execution_count": 13,
     "metadata": {},
     "output_type": "execute_result"
    }
   ],
   "source": [
    "function simplifyCellsThreads(V,CV)\n",
    "    PRECISION = 5\n",
    "    vertDict = DefaultDict{Array{Float64,1}, Int64}(0)\n",
    "    index = 0\n",
    "    W = Array{Float64,1}[]\n",
    "    FW = Array{Int64,1}[]\n",
    "       \n",
    "    @threads for incell in CV\n",
    "                outcell= Int64[]\n",
    "                for v in incell\n",
    "             vert = V[:,v]\n",
    "             key = map(approxVal(PRECISION), vert)\n",
    "             if vertDict[key]==0\n",
    "                 index += 1\n",
    "                 vertDict[key] = index\n",
    "                 push!(outcell, index)\n",
    "                 push!(W,key)\n",
    "             else\n",
    "                 push!(outcell, vertDict[key])\n",
    "             end\n",
    "         end\n",
    "         append!(FW, [[Set(outcell)...]]) \n",
    "     end\n",
    "     return hcat(W...),FW\n",
    " end\n",
    "        "
   ]
  },
  {
   "cell_type": "code",
   "execution_count": 14,
   "id": "98bfcdcb",
   "metadata": {},
   "outputs": [
    {
     "name": "stdout",
     "output_type": "stream",
     "text": [
      "  70.493 μs (1000 allocations: 91.17 KiB)\n"
     ]
    },
    {
     "data": {
      "text/plain": [
       "([1.0 2.0 … 66.0 62.0; 1.0 2.0 … 66.0 62.0], [[1], [2], [3], [4], [5], [6], [7], [8], [9], [10]  …  [2], [2], [64], [20], [12], [65], [64], [25], [3], [66]])"
      ]
     },
     "execution_count": 14,
     "metadata": {},
     "output_type": "execute_result"
    }
   ],
   "source": [
    "@btime simplifyCellsThreads(V,CV)"
   ]
  },
  {
   "cell_type": "markdown",
   "id": "eb200abc",
   "metadata": {},
   "source": [
    "L'uso dei threads nel mio caso aumenta il tempo di esecuzione , tutto dipende dalla macchina sui cui gira il codice , io non avendo una macchina molto potente ho settato il numero di threads pari a 2 ... ma gira ugualmente lento. I cicli for sono di fondamentale importanza per il giusto funzionamento dei threads e dovrebbero essere della forma incell=1:length(CV) , ovviamente in questo caso il tempo di esecuzione diminuisce ma l'output poi non sarà quello ! In effetti il tempo di esecuzione aumenta anche a causa del numero di allocazioni che sono aumentate."
   ]
  },
  {
   "cell_type": "markdown",
   "id": "e90a0a6c",
   "metadata": {},
   "source": [
    "## Refactoring del codice "
   ]
  },
  {
   "cell_type": "code",
   "execution_count": 15,
   "id": "cb4fa923",
   "metadata": {},
   "outputs": [
    {
     "data": {
      "text/plain": [
       "simplifyCellsRef (generic function with 1 method)"
      ]
     },
     "execution_count": 15,
     "metadata": {},
     "output_type": "execute_result"
    }
   ],
   "source": [
    "function simplifyCellsRef(V,CV)\n",
    "    PRECISION = 5\n",
    "    vertDict = DefaultDict{Array{Float64,1}, Int64}(0)\n",
    "    index = 0\n",
    "    W = Array{Float64,1}[]\n",
    "    FW = Array{Int64,1}[]\n",
    "    \n",
    "    for incell in CV\n",
    "        outcell = Int64[]\n",
    "        for v in incell\n",
    "         vert = V[:,v]\n",
    "         key = map(approxVal(PRECISION), vert)  #key = approxVal(PRECISION) . (vert)\n",
    "            if vertDict[key]==0\n",
    "                index += 1\n",
    "                vertDict[key] = index\n",
    "                push!(outcell, index)\n",
    "                push!(W,key)\n",
    "            else\n",
    "                push!(outcell, vertDict[key])\n",
    "            end\n",
    "        end\n",
    "         push!(FW, [Set(outcell)...])\n",
    "    end\n",
    "    return hcat(W...),FW\n",
    "end"
   ]
  },
  {
   "cell_type": "code",
   "execution_count": 16,
   "id": "78253233",
   "metadata": {},
   "outputs": [
    {
     "name": "stdout",
     "output_type": "stream",
     "text": [
      "  61.965 μs (855 allocations: 81.94 KiB)\n"
     ]
    },
    {
     "data": {
      "text/plain": [
       "([1.0 2.0 … 66.0 62.0; 1.0 2.0 … 66.0 62.0], [[1], [2], [3], [4], [5], [6], [7], [8], [9], [10]  …  [2], [2], [64], [20], [12], [65], [64], [25], [3], [66]])"
      ]
     },
     "execution_count": 16,
     "metadata": {},
     "output_type": "execute_result"
    }
   ],
   "source": [
    "@btime simplifyCellsRef(V,CV)"
   ]
  },
  {
   "cell_type": "markdown",
   "id": "3dfb6ab8",
   "metadata": {},
   "source": [
    "Ho fatto un piccolo refactoring al codice della funzione principale e sembrano esserci dei miglioramenti sotto l'aspetto del tempo e in piu anche in termini di allocazione . Ho capito che usando push! al posto della pre allocazione il tempo di esecuzione aumenta del 5% che visto in termini di pochi dati è quasi nullo mentre può avere essere davvero pesante quando si parla di quantità di dati molto molto grandi . Ma in questa situazione non mi conviene sostituire i push perche come letto nella guida \" If you do not know length of your array in advance, then you should use push! function.\" quindi ho deciso di non farlo . Invece la funzione approxVal non è stata modificata poichè è molto semplice , usata come appoggio."
   ]
  }
 ],
 "metadata": {
  "kernelspec": {
   "display_name": "Julia 1.5.2",
   "language": "julia",
   "name": "julia-1.5"
  },
  "language_info": {
   "file_extension": ".jl",
   "mimetype": "application/julia",
   "name": "julia",
   "version": "1.5.2"
  }
 },
 "nbformat": 4,
 "nbformat_minor": 5
}
